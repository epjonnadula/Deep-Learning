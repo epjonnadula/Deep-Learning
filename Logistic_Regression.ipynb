{
  "nbformat": 4,
  "nbformat_minor": 0,
  "metadata": {
    "colab": {
      "name": "Logistic Regression",
      "provenance": [],
      "include_colab_link": true
    },
    "kernelspec": {
      "name": "python3",
      "display_name": "Python 3"
    }
  },
  "cells": [
    {
      "cell_type": "markdown",
      "metadata": {
        "id": "view-in-github",
        "colab_type": "text"
      },
      "source": [
        "<a href=\"https://colab.research.google.com/github/epjonnadula/Deep-Learning/blob/master/Logistic_Regression.ipynb\" target=\"_parent\"><img src=\"https://colab.research.google.com/assets/colab-badge.svg\" alt=\"Open In Colab\"/></a>"
      ]
    },
    {
      "cell_type": "code",
      "metadata": {
        "id": "10D_jVpg7H3b",
        "colab_type": "code",
        "colab": {}
      },
      "source": [
        "import numpy as np\n",
        "import pandas as pd\n",
        "from sklearn import preprocessing\n",
        "import matplotlib.pyplot as plt\n",
        "from sklearn import datasets\n",
        "from sklearn.model_selection import train_test_split\n",
        "from sklearn.linear_model import LogisticRegression\n",
        "from sklearn.metrics import mean_squared_error\n",
        "import sys\n",
        "from sklearn.metrics import accuracy_score \n"
      ],
      "execution_count": 0,
      "outputs": []
    },
    {
      "cell_type": "code",
      "metadata": {
        "id": "-YzIe1N5d1RZ",
        "colab_type": "code",
        "outputId": "252414ae-2c57-4f54-9949-b9b910637dd9",
        "colab": {
          "base_uri": "https://localhost:8080/",
          "height": 85
        }
      },
      "source": [
        "cancer = datasets.load_breast_cancer() \n",
        "x=pd.DataFrame(cancer.data) \n",
        "y=pd.DataFrame(cancer.target) \n",
        "x=x.to_numpy() \n",
        "y=y.to_numpy() \n",
        "x=preprocessing.normalize(x, norm='l2') \n",
        "train_x, test_x, train_y, test_y = train_test_split(x, y, test_size = 0.3,shuffle=True) \n",
        "m=np.shape(train_x)[0] \n",
        "train_x=np.nan_to_num(train_x) \n",
        "train_y=np.nan_to_num(train_y) \n",
        "ones=np.ones((m,1)) \n",
        "train_x=np.append(ones,train_x,axis=1) \n",
        "n=np.shape(train_x)[1]\n",
        "\n",
        "print(np.shape(train_x)) \n",
        "print(np.shape(train_y))\n",
        "print(np.shape(test_x)) \n",
        "print(np.shape(test_y))"
      ],
      "execution_count": 2,
      "outputs": [
        {
          "output_type": "stream",
          "text": [
            "(398, 31)\n",
            "(398, 1)\n",
            "(171, 30)\n",
            "(171, 1)\n"
          ],
          "name": "stdout"
        }
      ]
    },
    {
      "cell_type": "code",
      "metadata": {
        "id": "Zmk1B7safzrk",
        "colab_type": "code",
        "colab": {}
      },
      "source": [
        "def sigmoid(x):\n",
        "    return 1/(1+np.exp(-x))"
      ],
      "execution_count": 0,
      "outputs": []
    },
    {
      "cell_type": "code",
      "metadata": {
        "id": "GbYJcqwvfx6j",
        "colab_type": "code",
        "colab": {}
      },
      "source": [
        "def hypothesis(theta,x):\n",
        "    return sigmoid(np.dot(x,theta))"
      ],
      "execution_count": 0,
      "outputs": []
    },
    {
      "cell_type": "code",
      "metadata": {
        "id": "bZ2sCGfogCHT",
        "colab_type": "code",
        "colab": {}
      },
      "source": [
        "def cost(calculated,actual):\n",
        "    error = (-actual * np.log(calculated)) - ((1-actual)*np.log(1-calculated))\n",
        "    return np.sum(error)/len(actual) "
      ],
      "execution_count": 0,
      "outputs": []
    },
    {
      "cell_type": "code",
      "metadata": {
        "id": "esw-UShegazq",
        "colab_type": "code",
        "colab": {}
      },
      "source": [
        "def gradient_descent(calculated,actual,x,alpha,theta):\n",
        "    diff=np.subtract(calculated,actual)\n",
        "    grad=np.matmul(np.transpose(diff),x)\n",
        "    grads=alpha*(np.transpose(grad)/np.shape(x)[0])\n",
        "    theta=np.subtract(theta,grads)\n",
        "    return theta"
      ],
      "execution_count": 0,
      "outputs": []
    },
    {
      "cell_type": "code",
      "metadata": {
        "id": "uGFl6s2Egdbs",
        "colab_type": "code",
        "outputId": "3dabc53d-c4bb-45fa-85e1-62bab5bef08c",
        "colab": {
          "base_uri": "https://localhost:8080/",
          "height": 34
        }
      },
      "source": [
        "theta=np.ones((n,1))\n",
        "calculated=hypothesis(theta,train_x)\n",
        "cost_val=cost(calculated,train_y)\n",
        "print(cost_val)"
      ],
      "execution_count": 7,
      "outputs": [
        {
          "output_type": "stream",
          "text": [
            "1.0517701272163915\n"
          ],
          "name": "stdout"
        }
      ]
    },
    {
      "cell_type": "code",
      "metadata": {
        "id": "wj-k8IL1IRBe",
        "colab_type": "code",
        "colab": {
          "base_uri": "https://localhost:8080/",
          "height": 1000
        },
        "outputId": "faffb7de-91bf-4e8c-850a-30f350d4fd61"
      },
      "source": [
        "prev_cost=sys.maxsize\n",
        "cost_list=[]\n",
        "epsilon=0.00000001\n",
        "theta=np.zeros((n,1))\n",
        "while True:\n",
        "    calculated=hypothesis(theta,train_x)\n",
        "    cost_val=cost(calculated,train_y)\n",
        "    theta=gradient_descent(calculated,train_y,train_x,0.1,theta)\n",
        "    cost_list.append(cost_val)\n",
        "    if np.abs(cost_val-prev_cost)<=epsilon:\n",
        "        break\n",
        "    else:\n",
        "        prev_cost=cost_val\n",
        "    if len(cost_list)%10000==0:\n",
        "        print(\"Iteration \",len(cost_list), \"---> Cost \",cost_list[-1])"
      ],
      "execution_count": 8,
      "outputs": [
        {
          "output_type": "stream",
          "text": [
            "Iteration  10000 ---> Cost  0.4029273120493313\n",
            "Iteration  20000 ---> Cost  0.3302872967773515\n",
            "Iteration  30000 ---> Cost  0.29562591574649294\n",
            "Iteration  40000 ---> Cost  0.27469706344910766\n",
            "Iteration  50000 ---> Cost  0.2603827873394749\n",
            "Iteration  60000 ---> Cost  0.24982318225643238\n",
            "Iteration  70000 ---> Cost  0.24163337444578814\n",
            "Iteration  80000 ---> Cost  0.2350538728350314\n",
            "Iteration  90000 ---> Cost  0.22962926993120866\n",
            "Iteration  100000 ---> Cost  0.22506750890782815\n",
            "Iteration  110000 ---> Cost  0.22117121976230034\n",
            "Iteration  120000 ---> Cost  0.21780132067218405\n",
            "Iteration  130000 ---> Cost  0.21485640644056916\n",
            "Iteration  140000 ---> Cost  0.21226042995537403\n",
            "Iteration  150000 ---> Cost  0.20995500120808472\n",
            "Iteration  160000 ---> Cost  0.20789438576566238\n",
            "Iteration  170000 ---> Cost  0.20604214817109084\n",
            "Iteration  180000 ---> Cost  0.20436883419909346\n",
            "Iteration  190000 ---> Cost  0.20285033000942826\n",
            "Iteration  200000 ---> Cost  0.20146667465675827\n",
            "Iteration  210000 ---> Cost  0.2002011837509731\n",
            "Iteration  220000 ---> Cost  0.1990397913856882\n",
            "Iteration  230000 ---> Cost  0.1979705482162647\n",
            "Iteration  240000 ---> Cost  0.19698323324627096\n",
            "Iteration  250000 ---> Cost  0.19606904975806888\n",
            "Iteration  260000 ---> Cost  0.19522038442606157\n",
            "Iteration  270000 ---> Cost  0.1944306145084961\n",
            "Iteration  280000 ---> Cost  0.19369395207172985\n",
            "Iteration  290000 ---> Cost  0.19300531705762508\n",
            "Iteration  300000 ---> Cost  0.19236023304584965\n",
            "Iteration  310000 ---> Cost  0.1917547410413238\n",
            "Iteration  320000 ---> Cost  0.19118532770169955\n",
            "Iteration  330000 ---> Cost  0.19064886522497967\n",
            "Iteration  340000 ---> Cost  0.19014256072176472\n",
            "Iteration  350000 ---> Cost  0.18966391335499788\n",
            "Iteration  360000 ---> Cost  0.1892106778810418\n",
            "Iteration  370000 ---> Cost  0.18878083349708372\n",
            "Iteration  380000 ---> Cost  0.18837255711114895\n",
            "Iteration  390000 ---> Cost  0.18798420031690566\n",
            "Iteration  400000 ---> Cost  0.1876142694866972\n",
            "Iteration  410000 ---> Cost  0.18726140850079565\n",
            "Iteration  420000 ---> Cost  0.18692438371468692\n",
            "Iteration  430000 ---> Cost  0.18660207083382652\n",
            "Iteration  440000 ---> Cost  0.18629344342015272\n",
            "Iteration  450000 ---> Cost  0.18599756279940027\n",
            "Iteration  460000 ---> Cost  0.18571356917493573\n",
            "Iteration  470000 ---> Cost  0.18544067378405613\n",
            "Iteration  480000 ---> Cost  0.18517815195769952\n",
            "Iteration  490000 ---> Cost  0.18492533696529692\n",
            "Iteration  500000 ---> Cost  0.18468161454383786\n",
            "Iteration  510000 ---> Cost  0.1844464180247402\n",
            "Iteration  520000 ---> Cost  0.18421922398433727\n",
            "Iteration  530000 ---> Cost  0.18399954835408627\n",
            "Iteration  540000 ---> Cost  0.18378694293532924\n",
            "Iteration  550000 ---> Cost  0.1835809922708382\n",
            "Iteration  560000 ---> Cost  0.1833813108316859\n",
            "Iteration  570000 ---> Cost  0.18318754048336444\n",
            "Iteration  580000 ---> Cost  0.1829993481996907\n",
            "Iteration  590000 ---> Cost  0.18281642399700107\n",
            "Iteration  600000 ---> Cost  0.18263847906454284\n",
            "Iteration  610000 ---> Cost  0.18246524406991968\n",
            "Iteration  620000 ---> Cost  0.1822964676209909\n",
            "Iteration  630000 ---> Cost  0.18213191486783495\n",
            "Iteration  640000 ---> Cost  0.1819713662303057\n",
            "Iteration  650000 ---> Cost  0.18181461623837888\n",
            "Iteration  660000 ---> Cost  0.18166147247394962\n",
            "Iteration  670000 ---> Cost  0.18151175460400928\n",
            "Iteration  680000 ---> Cost  0.18136529349625172\n",
            "Iteration  690000 ---> Cost  0.18122193040913862\n",
            "Iteration  700000 ---> Cost  0.18108151624931296\n",
            "Iteration  710000 ---> Cost  0.1809439108900091\n",
            "Iteration  720000 ---> Cost  0.18080898254477995\n",
            "Iteration  730000 ---> Cost  0.18067660719144962\n",
            "Iteration  740000 ---> Cost  0.18054666804172417\n",
            "Iteration  750000 ---> Cost  0.18041905505236233\n",
            "Iteration  760000 ---> Cost  0.18029366447421027\n",
            "Iteration  770000 ---> Cost  0.18017039843578134\n",
            "Iteration  780000 ---> Cost  0.18004916455838005\n",
            "Iteration  790000 ---> Cost  0.1799298756000651\n",
            "Iteration  800000 ---> Cost  0.1798124491260031\n",
            "Iteration  810000 ---> Cost  0.17969680720299927\n",
            "Iteration  820000 ---> Cost  0.17958287611619703\n",
            "Iteration  830000 ---> Cost  0.1794705861061261\n",
            "Iteration  840000 ---> Cost  0.1793598711244443\n",
            "Iteration  850000 ---> Cost  0.17925066860687283\n",
            "Iteration  860000 ---> Cost  0.17914291926195225\n",
            "Iteration  870000 ---> Cost  0.17903656687437683\n",
            "Iteration  880000 ---> Cost  0.17893155812176834\n",
            "Iteration  890000 ---> Cost  0.17882784240385166\n",
            "Iteration  900000 ---> Cost  0.17872537168308497\n",
            "Iteration  910000 ---> Cost  0.17862410033587728\n"
          ],
          "name": "stdout"
        }
      ]
    },
    {
      "cell_type": "code",
      "metadata": {
        "id": "3Ru15FV-IWI4",
        "colab_type": "code",
        "colab": {
          "base_uri": "https://localhost:8080/",
          "height": 282
        },
        "outputId": "6d5b400f-70a7-4c04-9903-3ff0d157ab2c"
      },
      "source": [
        "plt.plot(range(0,len(cost_list)),cost_list)\n",
        "plt.show()\n",
        "print(\"Training Cost=\",cost_list[-1])"
      ],
      "execution_count": 9,
      "outputs": [
        {
          "output_type": "display_data",
          "data": {
            "image/png": "[encoded data removed]",
            "text/plain": [
              "<Figure size 432x288 with 1 Axes>"
            ]
          },
          "metadata": {
            "tags": []
          }
        },
        {
          "output_type": "stream",
          "text": [
            "Training Cost= 0.17856385510310985\n"
          ],
          "name": "stdout"
        }
      ]
    },
    {
      "cell_type": "code",
      "metadata": {
        "id": "qAol6sLYIaSK",
        "colab_type": "code",
        "colab": {}
      },
      "source": [
        "m=np.shape(test_x)[0]\n",
        "test_x=np.nan_to_num(test_x)\n",
        "test_y=np.nan_to_num(test_y)\n",
        "ones=np.ones((m,1))\n",
        "test_x=np.append(ones,test_x,axis=1)\n",
        "n=np.shape(test_x)[1]"
      ],
      "execution_count": 0,
      "outputs": []
    },
    {
      "cell_type": "code",
      "metadata": {
        "id": "y7_kYzz7IdMJ",
        "colab_type": "code",
        "colab": {
          "base_uri": "https://localhost:8080/",
          "height": 34
        },
        "outputId": "f0a1547d-d2de-4d52-df3f-b2f978c1fa86"
      },
      "source": [
        "calculated=hypothesis(theta,test_x)\n",
        "calculated = np.where(calculated > 0.5, 1, 0)\n",
        "sum=0\n",
        "for i in range(len(test_y)):\n",
        "    if test_y[i]==calculated[i]:\n",
        "        sum=sum+1\n",
        "print(\"Test Score=\",sum*100/len(test_y))"
      ],
      "execution_count": 12,
      "outputs": [
        {
          "output_type": "stream",
          "text": [
            "Test Score= 88.88888888888889\n"
          ],
          "name": "stdout"
        }
      ]
    }
  ]
}