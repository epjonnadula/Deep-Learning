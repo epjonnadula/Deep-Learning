{
  "nbformat": 4,
  "nbformat_minor": 0,
  "metadata": {
    "colab": {
      "name": "Logistic Regression",
      "provenance": [],
      "include_colab_link": true
    },
    "kernelspec": {
      "name": "python3",
      "display_name": "Python 3"
    }
  },
  "cells": [
    {
      "cell_type": "markdown",
      "metadata": {
        "id": "view-in-github",
        "colab_type": "text"
      },
      "source": [
        "<a href=\"https://colab.research.google.com/github/epjonnadula/Deep-Learning/blob/master/Logistic_Regression.ipynb\" target=\"_parent\"><img src=\"https://colab.research.google.com/assets/colab-badge.svg\" alt=\"Open In Colab\"/></a>"
      ]
    },
    {
      "cell_type": "code",
      "metadata": {
        "id": "10D_jVpg7H3b",
        "colab_type": "code",
        "colab": {}
      },
      "source": [
        "import numpy as np\n",
        "import pandas as pd\n",
        "from sklearn import preprocessing\n",
        "import matplotlib.pyplot as plt\n",
        "from sklearn import datasets\n",
        "from sklearn.model_selection import train_test_split\n",
        "from sklearn.linear_model import LogisticRegression\n",
        "from sklearn.metrics import mean_squared_error\n",
        "import sys\n",
        "from sklearn.metrics import accuracy_score \n"
      ],
      "execution_count": 0,
      "outputs": []
    },
    {
      "cell_type": "code",
      "metadata": {
        "id": "-YzIe1N5d1RZ",
        "colab_type": "code",
        "outputId": "91cd9b5e-b6be-41bd-b8d6-65d6306f9d6d",
        "colab": {
          "base_uri": "https://localhost:8080/",
          "height": 85
        }
      },
      "source": [
        "cancer = datasets.load_breast_cancer() \n",
        "x=pd.DataFrame(cancer.data) \n",
        "y=pd.DataFrame(cancer.target) \n",
        "x=x.to_numpy() \n",
        "y=y.to_numpy() \n",
        "x=preprocessing.normalize(x, norm='l2') \n",
        "train_x, test_x, train_y, test_y = train_test_split(x, y, test_size = 0.3,shuffle=True) \n",
        "m=np.shape(train_x)[0] \n",
        "train_x=np.nan_to_num(train_x) \n",
        "train_y=np.nan_to_num(train_y) \n",
        "ones=np.ones((m,1)) \n",
        "train_x=np.append(ones,train_x,axis=1) \n",
        "n=np.shape(train_x)[1]\n",
        "\n",
        "print(np.shape(train_x)) \n",
        "print(np.shape(train_y))\n",
        "print(np.shape(test_x)) \n",
        "print(np.shape(test_y))"
      ],
      "execution_count": 2,
      "outputs": [
        {
          "output_type": "stream",
          "text": [
            "(398, 31)\n",
            "(398, 1)\n",
            "(171, 30)\n",
            "(171, 1)\n"
          ],
          "name": "stdout"
        }
      ]
    },
    {
      "cell_type": "code",
      "metadata": {
        "id": "Zmk1B7safzrk",
        "colab_type": "code",
        "colab": {}
      },
      "source": [
        "def sigmoid(x):\n",
        "    return 1/(1+np.exp(-x))"
      ],
      "execution_count": 0,
      "outputs": []
    },
    {
      "cell_type": "code",
      "metadata": {
        "id": "GbYJcqwvfx6j",
        "colab_type": "code",
        "colab": {}
      },
      "source": [
        "def hypothesis(theta,x):\n",
        "    return sigmoid(np.dot(x,theta))"
      ],
      "execution_count": 0,
      "outputs": []
    },
    {
      "cell_type": "code",
      "metadata": {
        "id": "bZ2sCGfogCHT",
        "colab_type": "code",
        "colab": {}
      },
      "source": [
        "def cost(calculated,actual):\n",
        "    error = (-actual * np.log(calculated)) - ((1-actual)*np.log(1-calculated))\n",
        "    return np.sum(error)/len(actual) "
      ],
      "execution_count": 0,
      "outputs": []
    },
    {
      "cell_type": "code",
      "metadata": {
        "id": "esw-UShegazq",
        "colab_type": "code",
        "colab": {}
      },
      "source": [
        "def gradient_descent(calculated,actual,x,alpha,theta):\n",
        "    diff=np.subtract(calculated,actual)\n",
        "    grad=np.matmul(np.transpose(diff),x)\n",
        "    grads=alpha*(np.transpose(grad)/np.shape(x)[0])\n",
        "    theta=np.subtract(theta,grads)\n",
        "    return theta"
      ],
      "execution_count": 0,
      "outputs": []
    },
    {
      "cell_type": "code",
      "metadata": {
        "id": "uGFl6s2Egdbs",
        "colab_type": "code",
        "outputId": "ba717e13-9288-4da8-d4d6-f55e94203084",
        "colab": {
          "base_uri": "https://localhost:8080/",
          "height": 34
        }
      },
      "source": [
        "theta=np.ones((n,1))\n",
        "calculated=hypothesis(theta,train_x)\n",
        "cost_val=cost(calculated,train_y)\n",
        "print(cost_val)"
      ],
      "execution_count": 7,
      "outputs": [
        {
          "output_type": "stream",
          "text": [
            "0.9926192745898464\n"
          ],
          "name": "stdout"
        }
      ]
    },
    {
      "cell_type": "code",
      "metadata": {
        "id": "wj-k8IL1IRBe",
        "colab_type": "code",
        "outputId": "31b22385-8f26-4934-de03-9b08de9e70f5",
        "colab": {
          "base_uri": "https://localhost:8080/",
          "height": 1000
        }
      },
      "source": [
        "prev_cost=sys.maxsize\n",
        "cost_list=[]\n",
        "epsilon=0.00000001\n",
        "theta=np.zeros((n,1))\n",
        "while True:\n",
        "    calculated=hypothesis(theta,train_x)\n",
        "    cost_val=cost(calculated,train_y)\n",
        "    theta=gradient_descent(calculated,train_y,train_x,0.1,theta)\n",
        "    cost_list.append(cost_val)\n",
        "    if np.abs(cost_val-prev_cost)<=epsilon:\n",
        "        break\n",
        "    else:\n",
        "        prev_cost=cost_val\n",
        "    if len(cost_list)%10000==0:\n",
        "        print(\"Iteration \",len(cost_list), \"---> Cost \",cost_list[-1])"
      ],
      "execution_count": 8,
      "outputs": [
        {
          "output_type": "stream",
          "text": [
            "Iteration  10000 ---> Cost  0.3932760610631628\n",
            "Iteration  20000 ---> Cost  0.32409234757707306\n",
            "Iteration  30000 ---> Cost  0.2918841791248716\n",
            "Iteration  40000 ---> Cost  0.27288827680771377\n",
            "Iteration  50000 ---> Cost  0.26015095557997153\n",
            "Iteration  60000 ---> Cost  0.25089683899905796\n",
            "Iteration  70000 ---> Cost  0.24379710031196725\n",
            "Iteration  80000 ---> Cost  0.2381337202357155\n",
            "Iteration  90000 ---> Cost  0.2334834587290508\n",
            "Iteration  100000 ---> Cost  0.22957976570579428\n",
            "Iteration  110000 ---> Cost  0.22624572288199052\n",
            "Iteration  120000 ---> Cost  0.22335874264420474\n",
            "Iteration  130000 ---> Cost  0.22083076293118606\n",
            "Iteration  140000 ---> Cost  0.2185965488017783\n",
            "Iteration  150000 ---> Cost  0.21660648203764607\n",
            "Iteration  160000 ---> Cost  0.21482195422661138\n",
            "Iteration  170000 ---> Cost  0.21321233014742644\n",
            "Iteration  180000 ---> Cost  0.21175289002829908\n",
            "Iteration  190000 ---> Cost  0.21042339956421954\n",
            "Iteration  200000 ---> Cost  0.20920709272293336\n",
            "Iteration  210000 ---> Cost  0.2080899322208973\n",
            "Iteration  220000 ---> Cost  0.20706006078307274\n",
            "Iteration  230000 ---> Cost  0.2061073861679266\n",
            "Iteration  240000 ---> Cost  0.20522326183010658\n",
            "Iteration  250000 ---> Cost  0.20440023726402343\n",
            "Iteration  260000 ---> Cost  0.20363186004393574\n",
            "Iteration  270000 ---> Cost  0.20291251688050846\n",
            "Iteration  280000 ---> Cost  0.20223730459725955\n",
            "Iteration  290000 ---> Cost  0.20160192438857016\n",
            "Iteration  300000 ---> Cost  0.20100259443382607\n",
            "Iteration  310000 ---> Cost  0.200435977154944\n",
            "Iteration  320000 ---> Cost  0.1998991182769512\n",
            "Iteration  330000 ---> Cost  0.1993893954889805\n",
            "Iteration  340000 ---> Cost  0.19890447497645702\n",
            "Iteration  350000 ---> Cost  0.19844227445190366\n",
            "Iteration  360000 ---> Cost  0.19800093158423496\n",
            "Iteration  370000 ---> Cost  0.19757877693717885\n",
            "Iteration  380000 ---> Cost  0.19717431069238905\n",
            "Iteration  390000 ---> Cost  0.19678618256321764\n",
            "Iteration  400000 ---> Cost  0.19641317440915992\n",
            "Iteration  410000 ---> Cost  0.19605418514467324\n",
            "Iteration  420000 ---> Cost  0.19570821760387808\n",
            "Iteration  430000 ---> Cost  0.19537436707792383\n",
            "Iteration  440000 ---> Cost  0.19505181128712676\n",
            "Iteration  450000 ---> Cost  0.19473980158733556\n",
            "Iteration  460000 ---> Cost  0.19443765524089995\n",
            "Iteration  470000 ---> Cost  0.19414474860831354\n",
            "Iteration  480000 ---> Cost  0.19386051113804958\n",
            "Iteration  490000 ---> Cost  0.19358442005006485\n",
            "Iteration  500000 ---> Cost  0.1933159956235258\n",
            "Iteration  510000 ---> Cost  0.19305479701202943\n",
            "Iteration  520000 ---> Cost  0.19280041852032523\n",
            "Iteration  530000 ---> Cost  0.1925524862856549\n",
            "Iteration  540000 ---> Cost  0.19231065531455427\n",
            "Iteration  550000 ---> Cost  0.19207460683255523\n",
            "Iteration  560000 ---> Cost  0.191844045909848\n",
            "Iteration  570000 ---> Cost  0.19161869933077963\n",
            "Iteration  580000 ---> Cost  0.19139831367919447\n",
            "Iteration  590000 ---> Cost  0.19118265361517495\n",
            "Iteration  600000 ---> Cost  0.190971500321796\n",
            "Iteration  610000 ---> Cost  0.1907646501031531\n",
            "Iteration  620000 ---> Cost  0.19056191311720413\n",
            "Iteration  630000 ---> Cost  0.1903631122289472\n",
            "Iteration  640000 ---> Cost  0.1901680819711776\n",
            "Iteration  650000 ---> Cost  0.18997666760156218\n",
            "Iteration  660000 ---> Cost  0.18978872424607227\n",
            "Iteration  670000 ---> Cost  0.18960411611996109\n",
            "Iteration  680000 ---> Cost  0.18942271581845999\n",
            "Iteration  690000 ---> Cost  0.1892444036702474\n",
            "Iteration  700000 ---> Cost  0.18906906714750793\n",
            "Iteration  710000 ---> Cost  0.18889660032707292\n",
            "Iteration  720000 ---> Cost  0.1887269033977275\n",
            "Iteration  730000 ---> Cost  0.1885598822092902\n",
            "Iteration  740000 ---> Cost  0.1883954478595393\n",
            "Iteration  750000 ---> Cost  0.1882335163154591\n",
            "Iteration  760000 ---> Cost  0.18807400806565125\n",
            "Iteration  770000 ---> Cost  0.18791684780107126\n",
            "Iteration  780000 ---> Cost  0.1877619641215379\n",
            "Iteration  790000 ---> Cost  0.18760928926571574\n",
            "Iteration  800000 ---> Cost  0.1874587588625001\n",
            "Iteration  810000 ---> Cost  0.1873103117019316\n",
            "Iteration  820000 ---> Cost  0.18716388952395024\n",
            "Iteration  830000 ---> Cost  0.18701943682345912\n",
            "Iteration  840000 ---> Cost  0.18687690067031235\n",
            "Iteration  850000 ---> Cost  0.186736230542971\n",
            "Iteration  860000 ---> Cost  0.18659737817468577\n",
            "Iteration  870000 ---> Cost  0.18646029741117254\n",
            "Iteration  880000 ---> Cost  0.18632494407883643\n",
            "Iteration  890000 ---> Cost  0.18619127586268766\n",
            "Iteration  900000 ---> Cost  0.18605925219316888\n",
            "Iteration  910000 ---> Cost  0.1859288341411783\n",
            "Iteration  920000 ---> Cost  0.18579998432064085\n",
            "Iteration  930000 ---> Cost  0.18567266679803135\n",
            "Iteration  940000 ---> Cost  0.1855468470083068\n",
            "Iteration  950000 ---> Cost  0.18542249167674899\n",
            "Iteration  960000 ---> Cost  0.18529956874626377\n",
            "Iteration  970000 ---> Cost  0.18517804730971854\n",
            "Iteration  980000 ---> Cost  0.18505789754693258\n",
            "Iteration  990000 ---> Cost  0.18493909066597258\n",
            "Iteration  1000000 ---> Cost  0.1848215988484272\n",
            "Iteration  1010000 ---> Cost  0.1847053951983646\n",
            "Iteration  1020000 ---> Cost  0.18459045369469929\n",
            "Iteration  1030000 ---> Cost  0.18447674914671797\n",
            "Iteration  1040000 ---> Cost  0.18436425715253102\n",
            "Iteration  1050000 ---> Cost  0.18425295406023726\n",
            "Iteration  1060000 ---> Cost  0.18414281693160514\n",
            "Iteration  1070000 ---> Cost  0.1840338235080871\n",
            "Iteration  1080000 ---> Cost  0.18392595217900232\n",
            "Iteration  1090000 ---> Cost  0.1838191819517297\n",
            "Iteration  1100000 ---> Cost  0.1837134924237705\n",
            "Iteration  1110000 ---> Cost  0.1836088637565468\n",
            "Iteration  1120000 ---> Cost  0.18350527665081348\n",
            "Iteration  1130000 ---> Cost  0.18340271232357205\n",
            "Iteration  1140000 ---> Cost  0.18330115248637865\n",
            "Iteration  1150000 ---> Cost  0.18320057932495162\n"
          ],
          "name": "stdout"
        }
      ]
    },
    {
      "cell_type": "code",
      "metadata": {
        "id": "3Ru15FV-IWI4",
        "colab_type": "code",
        "outputId": "41419ab7-8edc-4454-bff5-561e754a44ba",
        "colab": {
          "base_uri": "https://localhost:8080/",
          "height": 282
        }
      },
      "source": [
        "plt.plot(range(0,len(cost_list)),cost_list)\n",
        "plt.show()\n",
        "print(\"Training Cost=\",cost_list[-1])"
      ],
      "execution_count": 9,
      "outputs": [
        {
          "output_type": "display_data",
          "data": {
            "image/png": "[encoded data removed]",
            "text/plain": [
              "<Figure size 432x288 with 1 Axes>"
            ]
          },
          "metadata": {
            "tags": []
          }
        },
        {
          "output_type": "stream",
          "text": [
            "Training Cost= 0.18319172553903793\n"
          ],
          "name": "stdout"
        }
      ]
    },
    {
      "cell_type": "code",
      "metadata": {
        "id": "IKg-V8sD1uz4",
        "colab_type": "code",
        "colab": {
          "base_uri": "https://localhost:8080/",
          "height": 34
        },
        "outputId": "d58e048a-69ea-4a2d-f5c9-aca86390eb25"
      },
      "source": [
        "calculated=hypothesis(theta,train_x)\n",
        "calculated = np.where(calculated > 0.5, 1, 0)\n",
        "sum=0\n",
        "for i in range(len(train_y)):\n",
        "    if train_y[i]==calculated[i]:\n",
        "        sum=sum+1\n",
        "print(\"Train Score=\",sum*100/len(train_y))"
      ],
      "execution_count": 10,
      "outputs": [
        {
          "output_type": "stream",
          "text": [
            "Train Score= 92.46231155778895\n"
          ],
          "name": "stdout"
        }
      ]
    },
    {
      "cell_type": "code",
      "metadata": {
        "id": "qAol6sLYIaSK",
        "colab_type": "code",
        "colab": {}
      },
      "source": [
        "m=np.shape(test_x)[0]\n",
        "test_x=np.nan_to_num(test_x)\n",
        "test_y=np.nan_to_num(test_y)\n",
        "ones=np.ones((m,1))\n",
        "test_x=np.append(ones,test_x,axis=1)\n",
        "n=np.shape(test_x)[1]"
      ],
      "execution_count": 0,
      "outputs": []
    },
    {
      "cell_type": "code",
      "metadata": {
        "id": "y7_kYzz7IdMJ",
        "colab_type": "code",
        "outputId": "822338e3-13c7-41e4-cc6f-9eaf23c4c4e6",
        "colab": {
          "base_uri": "https://localhost:8080/",
          "height": 34
        }
      },
      "source": [
        "calculated=hypothesis(theta,test_x)\n",
        "calculated = np.where(calculated > 0.5, 1, 0)\n",
        "sum=0\n",
        "for i in range(len(test_y)):\n",
        "    if test_y[i]==calculated[i]:\n",
        "        sum=sum+1\n",
        "print(\"Test Score=\",sum*100/len(test_y))"
      ],
      "execution_count": 12,
      "outputs": [
        {
          "output_type": "stream",
          "text": [
            "Test Score= 91.2280701754386\n"
          ],
          "name": "stdout"
        }
      ]
    }
  ]
}