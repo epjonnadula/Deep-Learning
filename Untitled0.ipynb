{
  "nbformat": 4,
  "nbformat_minor": 0,
  "metadata": {
    "colab": {
      "name": "Untitled0.ipynb",
      "provenance": [],
      "include_colab_link": true
    },
    "kernelspec": {
      "name": "python3",
      "display_name": "Python 3"
    }
  },
  "cells": [
    {
      "cell_type": "markdown",
      "metadata": {
        "id": "view-in-github",
        "colab_type": "text"
      },
      "source": [
        "<a href=\"https://colab.research.google.com/github/epjonnadula/Deep-Learning/blob/master/Untitled0.ipynb\" target=\"_parent\"><img src=\"https://colab.research.google.com/assets/colab-badge.svg\" alt=\"Open In Colab\"/></a>"
      ]
    },
    {
      "cell_type": "code",
      "metadata": {
        "id": "zOwHXSW7lTKa",
        "colab_type": "code",
        "colab": {}
      },
      "source": [
        "from numpy import loadtxt\n",
        "from keras.models import Sequential\n",
        "from keras.callbacks import EarlyStopping\n",
        "from keras.layers import Dense\n",
        "import numpy as np\n",
        "import pandas as pd\n",
        "from sklearn.model_selection import train_test_split\n",
        "from sklearn import preprocessing\n",
        "import matplotlib.pyplot as plt\n",
        "from sklearn import datasets\n",
        "import tensorflow as tf\n",
        "tf.logging.set_verbosity(tf.logging.ERROR)\n"
      ],
      "execution_count": 0,
      "outputs": []
    },
    {
      "cell_type": "code",
      "metadata": {
        "id": "_siR-oxaQBo3",
        "colab_type": "code",
        "colab": {
          "base_uri": "https://localhost:8080/",
          "height": 128
        },
        "outputId": "874e4161-dea6-485c-e53c-e550159ef8d4"
      },
      "source": [
        "from google.colab import drive\n",
        "drive.mount('/content/drive')"
      ],
      "execution_count": 3,
      "outputs": [
        {
          "output_type": "stream",
          "text": [
            "Go to this URL in a browser: https://accounts.google.com/o/oauth2/auth?client_id=947318989803-6bn6qk8qdgf4n4g3pfee6491hc0brc4i.apps.googleusercontent.com&redirect_uri=urn%3aietf%3awg%3aoauth%3a2.0%3aoob&response_type=code&scope=email%20https%3a%2f%2fwww.googleapis.com%2fauth%2fdocs.test%20https%3a%2f%2fwww.googleapis.com%2fauth%2fdrive%20https%3a%2f%2fwww.googleapis.com%2fauth%2fdrive.photos.readonly%20https%3a%2f%2fwww.googleapis.com%2fauth%2fpeopleapi.readonly\n",
            "\n",
            "Enter your authorization code:\n",
            "··········\n",
            "Mounted at /content/drive\n"
          ],
          "name": "stdout"
        }
      ]
    },
    {
      "cell_type": "code",
      "metadata": {
        "id": "76Tmpzc7QdnP",
        "colab_type": "code",
        "colab": {}
      },
      "source": [
        "train = pd.read_csv(\"drive/My Drive/Dataset/Train.csv\")\n",
        "train_x=train.iloc[:,1:11]\n",
        "train_y=train.iloc[:,train.columns == 'netgain']\n",
        "#train_x=train_x.to_numpy() \n",
        "#train_y=train_y.to_numpy() \n"
      ],
      "execution_count": 0,
      "outputs": []
    },
    {
      "cell_type": "code",
      "metadata": {
        "id": "4Yalqth8Yicu",
        "colab_type": "code",
        "colab": {
          "base_uri": "https://localhost:8080/",
          "height": 206
        },
        "outputId": "8d0dc511-1e2d-46f7-bfb7-35f1b75c211e"
      },
      "source": [
        "train_x.head()"
      ],
      "execution_count": 34,
      "outputs": [
        {
          "output_type": "execute_result",
          "data": {
            "text/html": [
              "<div>\n",
              "<style scoped>\n",
              "    .dataframe tbody tr th:only-of-type {\n",
              "        vertical-align: middle;\n",
              "    }\n",
              "\n",
              "    .dataframe tbody tr th {\n",
              "        vertical-align: top;\n",
              "    }\n",
              "\n",
              "    .dataframe thead th {\n",
              "        text-align: right;\n",
              "    }\n",
              "</style>\n",
              "<table border=\"1\" class=\"dataframe\">\n",
              "  <thead>\n",
              "    <tr style=\"text-align: right;\">\n",
              "      <th></th>\n",
              "      <th>realtionship_status</th>\n",
              "      <th>industry</th>\n",
              "      <th>genre</th>\n",
              "      <th>targeted_sex</th>\n",
              "      <th>average_runtime(minutes_per_week)</th>\n",
              "      <th>airtime</th>\n",
              "      <th>airlocation</th>\n",
              "      <th>ratings</th>\n",
              "      <th>expensive</th>\n",
              "      <th>money_back_guarantee</th>\n",
              "    </tr>\n",
              "  </thead>\n",
              "  <tbody>\n",
              "    <tr>\n",
              "      <th>0</th>\n",
              "      <td>Married-spouse-absent</td>\n",
              "      <td>Auto</td>\n",
              "      <td>Comedy</td>\n",
              "      <td>Male</td>\n",
              "      <td>45</td>\n",
              "      <td>Primetime</td>\n",
              "      <td>United-States</td>\n",
              "      <td>0.027465</td>\n",
              "      <td>High</td>\n",
              "      <td>No</td>\n",
              "    </tr>\n",
              "    <tr>\n",
              "      <th>1</th>\n",
              "      <td>Married-civ-spouse</td>\n",
              "      <td>Pharma</td>\n",
              "      <td>Comedy</td>\n",
              "      <td>Male</td>\n",
              "      <td>45</td>\n",
              "      <td>Primetime</td>\n",
              "      <td>United-States</td>\n",
              "      <td>0.027465</td>\n",
              "      <td>Low</td>\n",
              "      <td>No</td>\n",
              "    </tr>\n",
              "    <tr>\n",
              "      <th>2</th>\n",
              "      <td>Divorced</td>\n",
              "      <td>Entertainment</td>\n",
              "      <td>Comedy</td>\n",
              "      <td>Female</td>\n",
              "      <td>45</td>\n",
              "      <td>Primetime</td>\n",
              "      <td>United-States</td>\n",
              "      <td>0.027465</td>\n",
              "      <td>High</td>\n",
              "      <td>Yes</td>\n",
              "    </tr>\n",
              "    <tr>\n",
              "      <th>3</th>\n",
              "      <td>Separated</td>\n",
              "      <td>Political</td>\n",
              "      <td>Infomercial</td>\n",
              "      <td>Female</td>\n",
              "      <td>40</td>\n",
              "      <td>Primetime</td>\n",
              "      <td>United-States</td>\n",
              "      <td>0.027465</td>\n",
              "      <td>Low</td>\n",
              "      <td>No</td>\n",
              "    </tr>\n",
              "    <tr>\n",
              "      <th>4</th>\n",
              "      <td>Married-civ-spouse</td>\n",
              "      <td>Pharma</td>\n",
              "      <td>Comedy</td>\n",
              "      <td>Male</td>\n",
              "      <td>48</td>\n",
              "      <td>Primetime</td>\n",
              "      <td>United-States</td>\n",
              "      <td>0.027465</td>\n",
              "      <td>High</td>\n",
              "      <td>No</td>\n",
              "    </tr>\n",
              "  </tbody>\n",
              "</table>\n",
              "</div>"
            ],
            "text/plain": [
              "     realtionship_status       industry  ... expensive money_back_guarantee\n",
              "0  Married-spouse-absent           Auto  ...      High                   No\n",
              "1     Married-civ-spouse         Pharma  ...       Low                   No\n",
              "2               Divorced  Entertainment  ...      High                  Yes\n",
              "3              Separated      Political  ...       Low                   No\n",
              "4     Married-civ-spouse         Pharma  ...      High                   No\n",
              "\n",
              "[5 rows x 10 columns]"
            ]
          },
          "metadata": {
            "tags": []
          },
          "execution_count": 34
        }
      ]
    },
    {
      "cell_type": "code",
      "metadata": {
        "id": "IpBjTpfrjZ96",
        "colab_type": "code",
        "colab": {}
      },
      "source": [
        "dict_realtionship_status={}\n",
        "temp=train_x.realtionship_status.unique()\n",
        "for i in range(len(temp)):\n",
        "    dict_realtionship_status[temp[i]]=i+1\n",
        "\n",
        "dict_industry={}\n",
        "temp=train_x.industry.unique()\n",
        "for i in range(len(temp)):\n",
        "    dict_industry[temp[i]]=i+1\n",
        "\n",
        "dict_genre={}\n",
        "temp=train_x.genre.unique()\n",
        "for i in range(len(temp)):\n",
        "    dict_genre[temp[i]]=i+1\n",
        "\n",
        "dict_targeted_sex={}\n",
        "temp=train_x.targeted_sex.unique()\n",
        "for i in range(len(temp)):\n",
        "    dict_targeted_sex[temp[i]]=i+1\n",
        "\n",
        "dict_airtime={}\n",
        "temp=train_x.airtime.unique()\n",
        "for i in range(len(temp)):\n",
        "    dict_airtime[temp[i]]=i+1\n",
        "\n",
        "dict_airlocation={}\n",
        "temp=train_x.airlocation.unique()\n",
        "for i in range(len(temp)):\n",
        "    dict_airlocation[temp[i]]=i+1\n",
        "\n",
        "dict_expensive={}\n",
        "temp=train_x.expensive.unique()\n",
        "for i in range(len(temp)):\n",
        "    dict_expensive[temp[i]]=i+1\n",
        "\n",
        "dict_money_back_guarantee={}\n",
        "temp=train_x.money_back_guarantee.unique()\n",
        "for i in range(len(temp)):\n",
        "    dict_money_back_guarantee[temp[i]]=i+1\n",
        "\n",
        "\n",
        "dict_netgain={}\n",
        "temp=train_y.netgain.unique()\n",
        "for i in range(len(temp)):\n",
        "    dict_netgain[temp[i]]=i+1"
      ],
      "execution_count": 0,
      "outputs": []
    },
    {
      "cell_type": "code",
      "metadata": {
        "id": "y8qWhQqZkHcK",
        "colab_type": "code",
        "colab": {
          "base_uri": "https://localhost:8080/",
          "height": 126
        },
        "outputId": "4d2eb4cf-7373-4842-e157-afe71bdb785c"
      },
      "source": [
        "train_x.realtionship_status = [dict_realtionship_status[item] for item in train_x.realtionship_status] \n",
        "train_x.industry = [dict_industry[item] for item in train_x.industry] \n",
        "train_x.genre = [dict_genre[item] for item in train_x.genre] \n",
        "train_x.targeted_sex = [dict_targeted_sex[item] for item in train_x.targeted_sex] \n",
        "train_x.airtime = [dict_airtime[item] for item in train_x.airtime] \n",
        "train_x.airlocation = [dict_airlocation[item] for item in train_x.airlocation] \n",
        "train_x.expensive = [dict_expensive[item] for item in train_x.expensive] \n",
        "train_x.money_back_guarantee = [dict_money_back_guarantee[item] for item in train_x.money_back_guarantee] \n",
        "\n",
        "train_y.netgain = [dict_netgain[item] for item in train_y.netgain] \n",
        "\n"
      ],
      "execution_count": 4,
      "outputs": [
        {
          "output_type": "stream",
          "text": [
            "/usr/local/lib/python3.6/dist-packages/pandas/core/generic.py:5208: SettingWithCopyWarning: \n",
            "A value is trying to be set on a copy of a slice from a DataFrame.\n",
            "Try using .loc[row_indexer,col_indexer] = value instead\n",
            "\n",
            "See the caveats in the documentation: http://pandas.pydata.org/pandas-docs/stable/user_guide/indexing.html#returning-a-view-versus-a-copy\n",
            "  self[name] = value\n"
          ],
          "name": "stderr"
        }
      ]
    },
    {
      "cell_type": "code",
      "metadata": {
        "id": "sG68AIl6r3x-",
        "colab_type": "code",
        "colab": {
          "base_uri": "https://localhost:8080/",
          "height": 526
        },
        "outputId": "41a7d847-d4a7-4732-9eda-ab677a86f0fa"
      },
      "source": [
        "print(train_x.iloc[0:100,:])\n",
        "print(train_y)"
      ],
      "execution_count": 39,
      "outputs": [
        {
          "output_type": "stream",
          "text": [
            "    realtionship_status  industry  ...  expensive  money_back_guarantee\n",
            "0                     1         1  ...          1                     1\n",
            "1                     2         2  ...          2                     1\n",
            "2                     3         3  ...          1                     2\n",
            "3                     4         4  ...          2                     1\n",
            "4                     2         2  ...          1                     1\n",
            "..                  ...       ...  ...        ...                   ...\n",
            "95                    3         3  ...          3                     1\n",
            "96                    5         5  ...          3                     1\n",
            "97                    5         1  ...          2                     2\n",
            "98                    5         4  ...          1                     2\n",
            "99                    5         1  ...          3                     1\n",
            "\n",
            "[100 rows x 10 columns]\n",
            "       netgain\n",
            "0            1\n",
            "1            1\n",
            "2            1\n",
            "3            1\n",
            "4            2\n",
            "...        ...\n",
            "26043        2\n",
            "26044        1\n",
            "26045        2\n",
            "26046        1\n",
            "26047        1\n",
            "\n",
            "[26048 rows x 1 columns]\n"
          ],
          "name": "stdout"
        }
      ]
    },
    {
      "cell_type": "code",
      "metadata": {
        "id": "DyEunkMVp1IW",
        "colab_type": "code",
        "colab": {}
      },
      "source": [
        "class myCallback(tf.keras.callbacks.Callback):\n",
        "        def on_epoch_end(self, epoch, logs={}):\n",
        "            val=0.76\n",
        "            if(logs.get('acc')>val):\n",
        "                print(\"\\nReached \",val,\" accuracy so cancelling training!\")\n",
        "                self.model.stop_training = True\n",
        "callbacks = myCallback()"
      ],
      "execution_count": 0,
      "outputs": []
    },
    {
      "cell_type": "code",
      "metadata": {
        "id": "oSOTUXlWTChm",
        "colab_type": "code",
        "colab": {}
      },
      "source": [
        "model = Sequential()\n",
        "n_cols = train_x.shape[1]\n",
        "\n",
        "model.add(Dense(30, activation='relu', input_shape=(n_cols,)))\n",
        "model.add(Dense(5, activation='relu'))\n",
        "model.add(Dense(1, activation='sigmoid'))\n",
        "model.compile(loss='binary_crossentropy', optimizer='adam', metrics=['accuracy'])"
      ],
      "execution_count": 0,
      "outputs": []
    },
    {
      "cell_type": "code",
      "metadata": {
        "id": "U2Mr3AWnTGXX",
        "colab_type": "code",
        "colab": {
          "base_uri": "https://localhost:8080/",
          "height": 1000
        },
        "outputId": "5bf579cc-82af-484e-9021-1592b099323f"
      },
      "source": [
        "history=model.fit(train_x, train_y,validation_split=0.1, epochs=500,callbacks=[], verbose=1)"
      ],
      "execution_count": 52,
      "outputs": [
        {
          "output_type": "stream",
          "text": [
            "Train on 23443 samples, validate on 2605 samples\n",
            "Epoch 1/500\n",
            "23443/23443 [==============================] - 1s 40us/step - loss: 0.2386 - acc: 0.7614 - val_loss: 0.2311 - val_acc: 0.7689\n",
            "Epoch 2/500\n",
            "23443/23443 [==============================] - 1s 39us/step - loss: 0.2386 - acc: 0.7614 - val_loss: 0.2311 - val_acc: 0.7689\n",
            "Epoch 3/500\n",
            "23443/23443 [==============================] - 1s 40us/step - loss: 0.2386 - acc: 0.7614 - val_loss: 0.2311 - val_acc: 0.7689\n",
            "Epoch 4/500\n",
            "23443/23443 [==============================] - 1s 40us/step - loss: 0.2386 - acc: 0.7614 - val_loss: 0.2311 - val_acc: 0.7689\n",
            "Epoch 5/500\n",
            "23443/23443 [==============================] - 1s 40us/step - loss: 0.2386 - acc: 0.7614 - val_loss: 0.2311 - val_acc: 0.7689\n",
            "Epoch 6/500\n",
            "23443/23443 [==============================] - 1s 40us/step - loss: 0.2386 - acc: 0.7614 - val_loss: 0.2311 - val_acc: 0.7689\n",
            "Epoch 7/500\n",
            "23443/23443 [==============================] - 1s 39us/step - loss: 0.2386 - acc: 0.7614 - val_loss: 0.2311 - val_acc: 0.7689\n",
            "Epoch 8/500\n",
            "23443/23443 [==============================] - 1s 41us/step - loss: 0.2386 - acc: 0.7614 - val_loss: 0.2311 - val_acc: 0.7689\n",
            "Epoch 9/500\n",
            "23443/23443 [==============================] - 1s 40us/step - loss: 0.2386 - acc: 0.7614 - val_loss: 0.2311 - val_acc: 0.7689\n",
            "Epoch 10/500\n",
            "23443/23443 [==============================] - 1s 40us/step - loss: 0.2386 - acc: 0.7614 - val_loss: 0.2311 - val_acc: 0.7689\n",
            "Epoch 11/500\n",
            "23443/23443 [==============================] - 1s 40us/step - loss: 0.2386 - acc: 0.7614 - val_loss: 0.2311 - val_acc: 0.7689\n",
            "Epoch 12/500\n",
            "23443/23443 [==============================] - 1s 40us/step - loss: 0.2386 - acc: 0.7614 - val_loss: 0.2311 - val_acc: 0.7689\n",
            "Epoch 13/500\n",
            "23443/23443 [==============================] - 1s 39us/step - loss: 0.2386 - acc: 0.7614 - val_loss: 0.2311 - val_acc: 0.7689\n",
            "Epoch 14/500\n",
            "23443/23443 [==============================] - 1s 39us/step - loss: 0.2386 - acc: 0.7614 - val_loss: 0.2311 - val_acc: 0.7689\n",
            "Epoch 15/500\n",
            "23443/23443 [==============================] - 1s 40us/step - loss: 0.2386 - acc: 0.7614 - val_loss: 0.2311 - val_acc: 0.7689\n",
            "Epoch 16/500\n",
            "23443/23443 [==============================] - 1s 40us/step - loss: 0.2386 - acc: 0.7614 - val_loss: 0.2311 - val_acc: 0.7689\n",
            "Epoch 17/500\n",
            "23443/23443 [==============================] - 1s 40us/step - loss: 0.2386 - acc: 0.7614 - val_loss: 0.2311 - val_acc: 0.7689\n",
            "Epoch 18/500\n",
            "23443/23443 [==============================] - 1s 41us/step - loss: 0.2386 - acc: 0.7614 - val_loss: 0.2311 - val_acc: 0.7689\n",
            "Epoch 19/500\n",
            "23443/23443 [==============================] - 1s 40us/step - loss: 0.2386 - acc: 0.7614 - val_loss: 0.2311 - val_acc: 0.7689\n",
            "Epoch 20/500\n",
            "23443/23443 [==============================] - 1s 40us/step - loss: 0.2386 - acc: 0.7614 - val_loss: 0.2311 - val_acc: 0.7689\n",
            "Epoch 21/500\n",
            "23443/23443 [==============================] - 1s 40us/step - loss: 0.2386 - acc: 0.7614 - val_loss: 0.2311 - val_acc: 0.7689\n",
            "Epoch 22/500\n",
            "23443/23443 [==============================] - 1s 40us/step - loss: 0.2386 - acc: 0.7614 - val_loss: 0.2311 - val_acc: 0.7689\n",
            "Epoch 23/500\n",
            "23443/23443 [==============================] - 1s 40us/step - loss: 0.2386 - acc: 0.7614 - val_loss: 0.2311 - val_acc: 0.7689\n",
            "Epoch 24/500\n",
            "23443/23443 [==============================] - 1s 41us/step - loss: 0.2386 - acc: 0.7614 - val_loss: 0.2311 - val_acc: 0.7689\n",
            "Epoch 25/500\n",
            "23443/23443 [==============================] - 1s 39us/step - loss: 0.2386 - acc: 0.7614 - val_loss: 0.2311 - val_acc: 0.7689\n",
            "Epoch 26/500\n",
            "23443/23443 [==============================] - 1s 39us/step - loss: 0.2386 - acc: 0.7614 - val_loss: 0.2311 - val_acc: 0.7689\n",
            "Epoch 27/500\n",
            "23443/23443 [==============================] - 1s 41us/step - loss: 0.2386 - acc: 0.7614 - val_loss: 0.2311 - val_acc: 0.7689\n",
            "Epoch 28/500\n",
            "23443/23443 [==============================] - 1s 40us/step - loss: 0.2386 - acc: 0.7614 - val_loss: 0.2311 - val_acc: 0.7689\n",
            "Epoch 29/500\n",
            "23443/23443 [==============================] - 1s 40us/step - loss: 0.2386 - acc: 0.7614 - val_loss: 0.2311 - val_acc: 0.7689\n",
            "Epoch 30/500\n",
            "23443/23443 [==============================] - 1s 40us/step - loss: 0.2386 - acc: 0.7614 - val_loss: 0.2311 - val_acc: 0.7689\n",
            "Epoch 31/500\n",
            "10784/23443 [============>.................] - ETA: 0s - loss: 0.2396 - acc: 0.7604"
          ],
          "name": "stdout"
        },
        {
          "output_type": "error",
          "ename": "KeyboardInterrupt",
          "evalue": "ignored",
          "traceback": [
            "\u001b[0;31m---------------------------------------------------------------------------\u001b[0m",
            "\u001b[0;31mKeyboardInterrupt\u001b[0m                         Traceback (most recent call last)",
            "\u001b[0;32m<ipython-input-52-6a362e761a81>\u001b[0m in \u001b[0;36m<module>\u001b[0;34m()\u001b[0m\n\u001b[0;32m----> 1\u001b[0;31m \u001b[0mhistory\u001b[0m\u001b[0;34m=\u001b[0m\u001b[0mmodel\u001b[0m\u001b[0;34m.\u001b[0m\u001b[0mfit\u001b[0m\u001b[0;34m(\u001b[0m\u001b[0mtrain_x\u001b[0m\u001b[0;34m,\u001b[0m \u001b[0mtrain_y\u001b[0m\u001b[0;34m,\u001b[0m\u001b[0mvalidation_split\u001b[0m\u001b[0;34m=\u001b[0m\u001b[0;36m0.1\u001b[0m\u001b[0;34m,\u001b[0m \u001b[0mepochs\u001b[0m\u001b[0;34m=\u001b[0m\u001b[0;36m500\u001b[0m\u001b[0;34m,\u001b[0m\u001b[0mcallbacks\u001b[0m\u001b[0;34m=\u001b[0m\u001b[0;34m[\u001b[0m\u001b[0;34m]\u001b[0m\u001b[0;34m,\u001b[0m \u001b[0mverbose\u001b[0m\u001b[0;34m=\u001b[0m\u001b[0;36m1\u001b[0m\u001b[0;34m)\u001b[0m\u001b[0;34m\u001b[0m\u001b[0;34m\u001b[0m\u001b[0m\n\u001b[0m",
            "\u001b[0;32m/usr/local/lib/python3.6/dist-packages/keras/engine/training.py\u001b[0m in \u001b[0;36mfit\u001b[0;34m(self, x, y, batch_size, epochs, verbose, callbacks, validation_split, validation_data, shuffle, class_weight, sample_weight, initial_epoch, steps_per_epoch, validation_steps, validation_freq, max_queue_size, workers, use_multiprocessing, **kwargs)\u001b[0m\n\u001b[1;32m   1176\u001b[0m                                         \u001b[0msteps_per_epoch\u001b[0m\u001b[0;34m=\u001b[0m\u001b[0msteps_per_epoch\u001b[0m\u001b[0;34m,\u001b[0m\u001b[0;34m\u001b[0m\u001b[0;34m\u001b[0m\u001b[0m\n\u001b[1;32m   1177\u001b[0m                                         \u001b[0mvalidation_steps\u001b[0m\u001b[0;34m=\u001b[0m\u001b[0mvalidation_steps\u001b[0m\u001b[0;34m,\u001b[0m\u001b[0;34m\u001b[0m\u001b[0;34m\u001b[0m\u001b[0m\n\u001b[0;32m-> 1178\u001b[0;31m                                         validation_freq=validation_freq)\n\u001b[0m\u001b[1;32m   1179\u001b[0m \u001b[0;34m\u001b[0m\u001b[0m\n\u001b[1;32m   1180\u001b[0m     def evaluate(self,\n",
            "\u001b[0;32m/usr/local/lib/python3.6/dist-packages/keras/engine/training_arrays.py\u001b[0m in \u001b[0;36mfit_loop\u001b[0;34m(model, fit_function, fit_inputs, out_labels, batch_size, epochs, verbose, callbacks, val_function, val_inputs, shuffle, callback_metrics, initial_epoch, steps_per_epoch, validation_steps, validation_freq)\u001b[0m\n\u001b[1;32m    202\u001b[0m                     \u001b[0mins_batch\u001b[0m\u001b[0;34m[\u001b[0m\u001b[0mi\u001b[0m\u001b[0;34m]\u001b[0m \u001b[0;34m=\u001b[0m \u001b[0mins_batch\u001b[0m\u001b[0;34m[\u001b[0m\u001b[0mi\u001b[0m\u001b[0;34m]\u001b[0m\u001b[0;34m.\u001b[0m\u001b[0mtoarray\u001b[0m\u001b[0;34m(\u001b[0m\u001b[0;34m)\u001b[0m\u001b[0;34m\u001b[0m\u001b[0;34m\u001b[0m\u001b[0m\n\u001b[1;32m    203\u001b[0m \u001b[0;34m\u001b[0m\u001b[0m\n\u001b[0;32m--> 204\u001b[0;31m                 \u001b[0mouts\u001b[0m \u001b[0;34m=\u001b[0m \u001b[0mfit_function\u001b[0m\u001b[0;34m(\u001b[0m\u001b[0mins_batch\u001b[0m\u001b[0;34m)\u001b[0m\u001b[0;34m\u001b[0m\u001b[0;34m\u001b[0m\u001b[0m\n\u001b[0m\u001b[1;32m    205\u001b[0m                 \u001b[0mouts\u001b[0m \u001b[0;34m=\u001b[0m \u001b[0mto_list\u001b[0m\u001b[0;34m(\u001b[0m\u001b[0mouts\u001b[0m\u001b[0;34m)\u001b[0m\u001b[0;34m\u001b[0m\u001b[0;34m\u001b[0m\u001b[0m\n\u001b[1;32m    206\u001b[0m                 \u001b[0;32mfor\u001b[0m \u001b[0ml\u001b[0m\u001b[0;34m,\u001b[0m \u001b[0mo\u001b[0m \u001b[0;32min\u001b[0m \u001b[0mzip\u001b[0m\u001b[0;34m(\u001b[0m\u001b[0mout_labels\u001b[0m\u001b[0;34m,\u001b[0m \u001b[0mouts\u001b[0m\u001b[0;34m)\u001b[0m\u001b[0;34m:\u001b[0m\u001b[0;34m\u001b[0m\u001b[0;34m\u001b[0m\u001b[0m\n",
            "\u001b[0;32m/usr/local/lib/python3.6/dist-packages/keras/backend/tensorflow_backend.py\u001b[0m in \u001b[0;36m__call__\u001b[0;34m(self, inputs)\u001b[0m\n\u001b[1;32m   2977\u001b[0m                     \u001b[0;32mreturn\u001b[0m \u001b[0mself\u001b[0m\u001b[0;34m.\u001b[0m\u001b[0m_legacy_call\u001b[0m\u001b[0;34m(\u001b[0m\u001b[0minputs\u001b[0m\u001b[0;34m)\u001b[0m\u001b[0;34m\u001b[0m\u001b[0;34m\u001b[0m\u001b[0m\n\u001b[1;32m   2978\u001b[0m \u001b[0;34m\u001b[0m\u001b[0m\n\u001b[0;32m-> 2979\u001b[0;31m             \u001b[0;32mreturn\u001b[0m \u001b[0mself\u001b[0m\u001b[0;34m.\u001b[0m\u001b[0m_call\u001b[0m\u001b[0;34m(\u001b[0m\u001b[0minputs\u001b[0m\u001b[0;34m)\u001b[0m\u001b[0;34m\u001b[0m\u001b[0;34m\u001b[0m\u001b[0m\n\u001b[0m\u001b[1;32m   2980\u001b[0m         \u001b[0;32melse\u001b[0m\u001b[0;34m:\u001b[0m\u001b[0;34m\u001b[0m\u001b[0;34m\u001b[0m\u001b[0m\n\u001b[1;32m   2981\u001b[0m             \u001b[0;32mif\u001b[0m \u001b[0mpy_any\u001b[0m\u001b[0;34m(\u001b[0m\u001b[0mis_tensor\u001b[0m\u001b[0;34m(\u001b[0m\u001b[0mx\u001b[0m\u001b[0;34m)\u001b[0m \u001b[0;32mfor\u001b[0m \u001b[0mx\u001b[0m \u001b[0;32min\u001b[0m \u001b[0minputs\u001b[0m\u001b[0;34m)\u001b[0m\u001b[0;34m:\u001b[0m\u001b[0;34m\u001b[0m\u001b[0;34m\u001b[0m\u001b[0m\n",
            "\u001b[0;32m/usr/local/lib/python3.6/dist-packages/keras/backend/tensorflow_backend.py\u001b[0m in \u001b[0;36m_call\u001b[0;34m(self, inputs)\u001b[0m\n\u001b[1;32m   2935\u001b[0m             \u001b[0mfetched\u001b[0m \u001b[0;34m=\u001b[0m \u001b[0mself\u001b[0m\u001b[0;34m.\u001b[0m\u001b[0m_callable_fn\u001b[0m\u001b[0;34m(\u001b[0m\u001b[0;34m*\u001b[0m\u001b[0marray_vals\u001b[0m\u001b[0;34m,\u001b[0m \u001b[0mrun_metadata\u001b[0m\u001b[0;34m=\u001b[0m\u001b[0mself\u001b[0m\u001b[0;34m.\u001b[0m\u001b[0mrun_metadata\u001b[0m\u001b[0;34m)\u001b[0m\u001b[0;34m\u001b[0m\u001b[0;34m\u001b[0m\u001b[0m\n\u001b[1;32m   2936\u001b[0m         \u001b[0;32melse\u001b[0m\u001b[0;34m:\u001b[0m\u001b[0;34m\u001b[0m\u001b[0;34m\u001b[0m\u001b[0m\n\u001b[0;32m-> 2937\u001b[0;31m             \u001b[0mfetched\u001b[0m \u001b[0;34m=\u001b[0m \u001b[0mself\u001b[0m\u001b[0;34m.\u001b[0m\u001b[0m_callable_fn\u001b[0m\u001b[0;34m(\u001b[0m\u001b[0;34m*\u001b[0m\u001b[0marray_vals\u001b[0m\u001b[0;34m)\u001b[0m\u001b[0;34m\u001b[0m\u001b[0;34m\u001b[0m\u001b[0m\n\u001b[0m\u001b[1;32m   2938\u001b[0m         \u001b[0;32mreturn\u001b[0m \u001b[0mfetched\u001b[0m\u001b[0;34m[\u001b[0m\u001b[0;34m:\u001b[0m\u001b[0mlen\u001b[0m\u001b[0;34m(\u001b[0m\u001b[0mself\u001b[0m\u001b[0;34m.\u001b[0m\u001b[0moutputs\u001b[0m\u001b[0;34m)\u001b[0m\u001b[0;34m]\u001b[0m\u001b[0;34m\u001b[0m\u001b[0;34m\u001b[0m\u001b[0m\n\u001b[1;32m   2939\u001b[0m \u001b[0;34m\u001b[0m\u001b[0m\n",
            "\u001b[0;32m/usr/local/lib/python3.6/dist-packages/tensorflow_core/python/client/session.py\u001b[0m in \u001b[0;36m__call__\u001b[0;34m(self, *args, **kwargs)\u001b[0m\n\u001b[1;32m   1470\u001b[0m         ret = tf_session.TF_SessionRunCallable(self._session._session,\n\u001b[1;32m   1471\u001b[0m                                                \u001b[0mself\u001b[0m\u001b[0;34m.\u001b[0m\u001b[0m_handle\u001b[0m\u001b[0;34m,\u001b[0m \u001b[0margs\u001b[0m\u001b[0;34m,\u001b[0m\u001b[0;34m\u001b[0m\u001b[0;34m\u001b[0m\u001b[0m\n\u001b[0;32m-> 1472\u001b[0;31m                                                run_metadata_ptr)\n\u001b[0m\u001b[1;32m   1473\u001b[0m         \u001b[0;32mif\u001b[0m \u001b[0mrun_metadata\u001b[0m\u001b[0;34m:\u001b[0m\u001b[0;34m\u001b[0m\u001b[0;34m\u001b[0m\u001b[0m\n\u001b[1;32m   1474\u001b[0m           \u001b[0mproto_data\u001b[0m \u001b[0;34m=\u001b[0m \u001b[0mtf_session\u001b[0m\u001b[0;34m.\u001b[0m\u001b[0mTF_GetBuffer\u001b[0m\u001b[0;34m(\u001b[0m\u001b[0mrun_metadata_ptr\u001b[0m\u001b[0;34m)\u001b[0m\u001b[0;34m\u001b[0m\u001b[0;34m\u001b[0m\u001b[0m\n",
            "\u001b[0;31mKeyboardInterrupt\u001b[0m: "
          ]
        }
      ]
    },
    {
      "cell_type": "code",
      "metadata": {
        "id": "BVlbjo1opshp",
        "colab_type": "code",
        "colab": {}
      },
      "source": [
        "plt.style.use('dark_background')\n",
        "plt.plot(history.history['acc'],color='red')\n",
        "plt.plot(history.history['val_acc'],color='green')\n",
        "plt.title('Model accuracy')\n",
        "plt.ylabel('Accuracy')\n",
        "plt.xlabel('Epoch')\n",
        "plt.legend(['Train', 'Val'], loc='upper left')\n",
        "plt.show()\n",
        "print(\"\\n\")\n",
        "plt.plot(history.history['loss'],color='red')\n",
        "plt.plot(history.history['val_loss'],color='green')\n",
        "plt.title('Model loss')\n",
        "plt.ylabel('Loss')\n",
        "plt.xlabel('Epoch')\n",
        "plt.legend(['Train', 'Val'], loc='upper left')\n",
        "plt.show()\n"
      ],
      "execution_count": 0,
      "outputs": []
    },
    {
      "cell_type": "code",
      "metadata": {
        "id": "Cd0pm4Wcpufp",
        "colab_type": "code",
        "colab": {
          "base_uri": "https://localhost:8080/",
          "height": 53
        },
        "outputId": "28579bf0-7ba7-4aab-fd18-587b23a59c9e"
      },
      "source": [
        "#_, accuracy = model.evaluate(test_x, test_y,verbose=0)\n",
        "print(\"Training Accuracy=\",history.history['acc'][-1]*100)\n",
        "print(\"Validation Accuracy=\",history.history['val_acc'][-1]*100)\n",
        "#print(\"Test Accuracy=\",accuracy*100)"
      ],
      "execution_count": 49,
      "outputs": [
        {
          "output_type": "stream",
          "text": [
            "Training Accuracy= 76.14213198071245\n",
            "Validation Accuracy= 76.8905950141731\n"
          ],
          "name": "stdout"
        }
      ]
    },
    {
      "cell_type": "code",
      "metadata": {
        "id": "cO_v6kUlvbd1",
        "colab_type": "code",
        "colab": {
          "base_uri": "https://localhost:8080/",
          "height": 53
        },
        "outputId": "b391a075-41d4-49c9-af34-b05036d96154"
      },
      "source": [
        "from sklearn.tree import DecisionTreeClassifier\n",
        "from sklearn.metrics import accuracy_score\n",
        "# Make a decision tree and train\n",
        "train_x, test_x, train_y, test_y = train_test_split(train_x, train_y, test_size = 0.2,shuffle=True) \n",
        "tree = DecisionTreeClassifier()\n",
        "tree.fit(train_x, train_y)\n",
        "print(tree.score(train_x,train_y))\n",
        "\n",
        "predict_y = tree.predict(test_x)\n",
        "print(accuracy_score(test_y, predict_y))"
      ],
      "execution_count": 8,
      "outputs": [
        {
          "output_type": "stream",
          "text": [
            "0.8703744013931215\n",
            "0.7972149695387293\n"
          ],
          "name": "stdout"
        }
      ]
    }
  ]
}