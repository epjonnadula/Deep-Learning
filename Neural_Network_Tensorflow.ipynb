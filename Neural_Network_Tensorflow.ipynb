{
  "nbformat": 4,
  "nbformat_minor": 0,
  "metadata": {
    "colab": {
      "name": "Neural Network Tensorflow",
      "provenance": [],
      "include_colab_link": true
    },
    "kernelspec": {
      "name": "python3",
      "display_name": "Python 3"
    }
  },
  "cells": [
    {
      "cell_type": "markdown",
      "metadata": {
        "id": "view-in-github",
        "colab_type": "text"
      },
      "source": [
        "<a href=\"https://colab.research.google.com/github/epjonnadula/Deep-Learning/blob/master/Neural_Network_Tensorflow.ipynb\" target=\"_parent\"><img src=\"https://colab.research.google.com/assets/colab-badge.svg\" alt=\"Open In Colab\"/></a>"
      ]
    },
    {
      "cell_type": "code",
      "metadata": {
        "id": "l4wdhoZgoPRc",
        "colab_type": "code",
        "outputId": "baa4e3f5-ae6b-4e18-df60-b7c1221e3dc2",
        "colab": {
          "base_uri": "https://localhost:8080/",
          "height": 83
        }
      },
      "source": [
        "from numpy import loadtxt\n",
        "from keras.models import Sequential\n",
        "from keras.callbacks import EarlyStopping\n",
        "from keras.layers import Dense\n",
        "import numpy as np\n",
        "import pandas as pd\n",
        "from sklearn.model_selection import train_test_split\n",
        "from sklearn import preprocessing\n",
        "import matplotlib.pyplot as plt\n",
        "from sklearn import datasets\n",
        "import os\n",
        "os.environ['TF_CPP_MIN_LOG_LEVEL'] = '3'\n",
        "import tensorflow as tf\n",
        "from tqdm import tqdm"
      ],
      "execution_count": 1,
      "outputs": [
        {
          "output_type": "stream",
          "text": [
            "Using TensorFlow backend.\n"
          ],
          "name": "stderr"
        },
        {
          "output_type": "display_data",
          "data": {
            "text/html": [
              "<p style=\"color: red;\">\n",
              "The default version of TensorFlow in Colab will soon switch to TensorFlow 2.x.<br>\n",
              "We recommend you <a href=\"https://www.tensorflow.org/guide/migrate\" target=\"_blank\">upgrade</a> now \n",
              "or ensure your notebook will continue to use TensorFlow 1.x via the <code>%tensorflow_version 1.x</code> magic:\n",
              "<a href=\"https://colab.research.google.com/notebooks/tensorflow_version.ipynb\" target=\"_blank\">more info</a>.</p>\n"
            ],
            "text/plain": [
              "<IPython.core.display.HTML object>"
            ]
          },
          "metadata": {
            "tags": []
          }
        }
      ]
    },
    {
      "cell_type": "code",
      "metadata": {
        "id": "lXgcJqG8o4aP",
        "colab_type": "code",
        "outputId": "bbec9f69-97f8-4a2a-c492-98b9d289caa1",
        "colab": {
          "base_uri": "https://localhost:8080/",
          "height": 35
        }
      },
      "source": [
        "cancer = datasets.load_breast_cancer() \n",
        "x=pd.DataFrame(cancer.data) \n",
        "y=pd.DataFrame(cancer.target) \n",
        "x=x.to_numpy() \n",
        "y=y.to_numpy() \n",
        "x=preprocessing.normalize(x, norm='l2') \n",
        "train_x, test_x, train_y, test_y = train_test_split(x, y, test_size = 0.3,shuffle=True) \n",
        "print(np.shape(train_x))\n"
      ],
      "execution_count": 2,
      "outputs": [
        {
          "output_type": "stream",
          "text": [
            "(398, 30)\n"
          ],
          "name": "stdout"
        }
      ]
    },
    {
      "cell_type": "code",
      "metadata": {
        "id": "bpe7U-n6uZjt",
        "colab_type": "code",
        "colab": {}
      },
      "source": [
        "input_size=train_x.shape[1]\n",
        "hidden_size_1=30\n",
        "hidden_size_2=15\n",
        "output_size=1\n",
        "epochs = 5000\n",
        "alpha=0.01\n",
        "batch_size = 100"
      ],
      "execution_count": 0,
      "outputs": []
    },
    {
      "cell_type": "code",
      "metadata": {
        "id": "giAdNWWr4MZ8",
        "colab_type": "code",
        "outputId": "2b102c33-4e01-44c0-fc10-f7a880999ee8",
        "colab": {
          "base_uri": "https://localhost:8080/",
          "height": 53
        }
      },
      "source": [
        "x = tf.placeholder(tf.float32, [None,train_x.shape[1]], name=\"x\")\n",
        "y = tf.placeholder(tf.float32, [None,train_y.shape[1]], name=\"y\")\n",
        "print(str(x))\n",
        "print(str(y))"
      ],
      "execution_count": 4,
      "outputs": [
        {
          "output_type": "stream",
          "text": [
            "Tensor(\"x:0\", shape=(?, 30), dtype=float32)\n",
            "Tensor(\"y:0\", shape=(?, 1), dtype=float32)\n"
          ],
          "name": "stdout"
        }
      ]
    },
    {
      "cell_type": "code",
      "metadata": {
        "id": "rZIwRCW05uVZ",
        "colab_type": "code",
        "outputId": "21c2b6eb-1eda-49b8-ef79-0a9ec01c7906",
        "colab": {
          "base_uri": "https://localhost:8080/",
          "height": 126
        }
      },
      "source": [
        "w1 = tf.Variable(tf.random_normal([input_size,hidden_size_1]),name=\"w1\")\n",
        "b1 = tf.Variable(tf.random_normal([hidden_size_1]),name='b1')\n",
        "\n",
        "w2 = tf.Variable(tf.random_normal([hidden_size_1,hidden_size_2]),name=\"w2\")\n",
        "b2 = tf.Variable(tf.random_normal([hidden_size_2]),name=\"b2\")\n",
        "\n",
        "w3 = tf.Variable(tf.random_normal([hidden_size_2,output_size]),name=\"w3\")\n",
        "b3 = tf.Variable(tf.random_normal([output_size]),name=\"b3\")\n",
        "\n",
        "print(str(w1))\n",
        "print(str(b1))\n",
        "print(str(w2))\n",
        "print(str(b2))\n",
        "print(str(w3))\n",
        "print(str(b3))"
      ],
      "execution_count": 5,
      "outputs": [
        {
          "output_type": "stream",
          "text": [
            "<tf.Variable 'w1:0' shape=(30, 30) dtype=float32_ref>\n",
            "<tf.Variable 'b1:0' shape=(30,) dtype=float32_ref>\n",
            "<tf.Variable 'w2:0' shape=(30, 15) dtype=float32_ref>\n",
            "<tf.Variable 'b2:0' shape=(15,) dtype=float32_ref>\n",
            "<tf.Variable 'w3:0' shape=(15, 1) dtype=float32_ref>\n",
            "<tf.Variable 'b3:0' shape=(1,) dtype=float32_ref>\n"
          ],
          "name": "stdout"
        }
      ]
    },
    {
      "cell_type": "code",
      "metadata": {
        "id": "7dgXBkYS6sK6",
        "colab_type": "code",
        "colab": {}
      },
      "source": [
        "z1=tf.add(tf.matmul(x,w1),b1)\n",
        "a1=tf.nn.relu(z1)\n",
        "\n",
        "\n",
        "z2=tf.add(tf.matmul(a1,w2),b2)\n",
        "a2=tf.nn.relu(z2)\n",
        "\n",
        "z3=tf.add(tf.matmul(a2,w3),b3)\n",
        "a3=tf.nn.sigmoid(z3)\n",
        "#print(str(a3))"
      ],
      "execution_count": 0,
      "outputs": []
    },
    {
      "cell_type": "code",
      "metadata": {
        "id": "8DUngJ_dkO6l",
        "colab_type": "code",
        "colab": {
          "base_uri": "https://localhost:8080/",
          "height": 92
        },
        "outputId": "4fd23184-5462-4fe8-f62a-311f91ac067f"
      },
      "source": [
        "#logits = tf.transpose(a3)\n",
        "#labels = tf.transpose(y)\n",
        "cost = tf.reduce_mean(tf.nn.sigmoid_cross_entropy_with_logits(logits = z3, labels = y))\n",
        "optimiser = tf.train.AdamOptimizer(learning_rate=alpha).minimize(cost)"
      ],
      "execution_count": 7,
      "outputs": [
        {
          "output_type": "stream",
          "text": [
            "WARNING:tensorflow:From /usr/local/lib/python3.6/dist-packages/tensorflow_core/python/ops/nn_impl.py:183: where (from tensorflow.python.ops.array_ops) is deprecated and will be removed in a future version.\n",
            "Instructions for updating:\n",
            "Use tf.where in 2.0, which has the same broadcast rule as np.where\n"
          ],
          "name": "stdout"
        }
      ]
    },
    {
      "cell_type": "code",
      "metadata": {
        "id": "fWAiY4TmqWBh",
        "colab_type": "code",
        "colab": {}
      },
      "source": [
        "def generate_mini_batches(x,y,batch_size):\n",
        "    mini_batches = [] \n",
        "    data = np.hstack((x, y)) \n",
        "    np.random.shuffle(data) \n",
        "    nof_batches = data.shape[0] // batch_size \n",
        "    i=0\n",
        "    for i in range(nof_batches + 1): \n",
        "        mini_batch = data[i * batch_size:(i + 1)*batch_size, :] \n",
        "        mini_x = mini_batch[:, :-1] \n",
        "        mini_y = mini_batch[:, -1].reshape((-1, 1)) \n",
        "        mini_batches.append((mini_x, mini_y)) \n",
        "\n",
        "    if data.shape[0] % batch_size != 0: \n",
        "        mini_batch = data[i * batch_size:data.shape[0]] \n",
        "        mini_x = mini_batch[:, :-1] \n",
        "        mini_y = mini_batch[:, -1].reshape((-1, 1)) \n",
        "        mini_batches.append((mini_x, mini_y)) \n",
        "\n",
        "    return mini_batches "
      ],
      "execution_count": 0,
      "outputs": []
    },
    {
      "cell_type": "code",
      "metadata": {
        "id": "ZN1R_bofCg2k",
        "colab_type": "code",
        "colab": {}
      },
      "source": [
        "def predict_results(x,y,parameters):\n",
        "    z1=np.add(np.matmul(x,parameters['w1']),parameters['b1'])\n",
        "    a1=np.maximum(z1, 0)\n",
        "\n",
        "    z2=np.add(np.matmul(a1,parameters['w2']),parameters['b2'])\n",
        "    a2=np.maximum(z2, 0)\n",
        "\n",
        "    z3=np.add(np.matmul(a2,parameters['w3']),parameters['b3'])\n",
        "    a3=1/(1 + np.exp(-z3))\n",
        "    calculated = np.where(a3 > 0.5, 1, 0)\n",
        "    sum=0\n",
        "    for i in range(len(y)):\n",
        "        if y[i]==calculated[i]:\n",
        "            sum=sum+1\n",
        "    return sum*100/len(y)\n"
      ],
      "execution_count": 0,
      "outputs": []
    },
    {
      "cell_type": "code",
      "metadata": {
        "id": "wTp09bzpl7y1",
        "colab_type": "code",
        "colab": {
          "base_uri": "https://localhost:8080/",
          "height": 126
        },
        "outputId": "230279e5-7228-47e7-d1b7-9b29814b712b"
      },
      "source": [
        "\n",
        "init_op = tf.global_variables_initializer()\n",
        "cost_list=[]\n",
        "test_acc_list=[]\n",
        "train_acc_list=[]\n",
        "parameters={}\n",
        "with tf.Session() as sess:\n",
        "    sess.run(init_op)\n",
        "    for epoch in tqdm(range(epochs)):\n",
        "        avg_cost = 0\n",
        "        mini_batches_tuples = generate_mini_batches(train_x, train_y, batch_size)\n",
        "        for mini_batch in mini_batches_tuples:\n",
        "            (mini_x,mini_y)=mini_batch\n",
        "            _, c = sess.run([optimiser, cost], feed_dict={x: mini_x, y: mini_y})\n",
        "            avg_cost=avg_cost+c\n",
        "        avg_cost=avg_cost/len(mini_batches_tuples)\n",
        "        cost_list.append(avg_cost)\n",
        "        if len(cost_list)%1000==0:\n",
        "            print(\"Iteration \",len(cost_list), \"---> Cost \",cost_list[-1])\n",
        "        parameters['w1']=sess.run(w1)\n",
        "        parameters['w2']=sess.run(w2)\n",
        "        parameters['w3']=sess.run(w3)\n",
        "        parameters['b1']=sess.run(b1)\n",
        "        parameters['b2']=sess.run(b2)\n",
        "        parameters['b3']=sess.run(b3)\n",
        "        test_acc_list.append(predict_results(test_x,test_y,parameters))\n",
        "        train_acc_list.append(predict_results(train_x,train_y,parameters))\n"
      ],
      "execution_count": 10,
      "outputs": [
        {
          "output_type": "stream",
          "text": [
            " 20%|██        | 1010/5000 [00:12<00:46, 86.60it/s]"
          ],
          "name": "stderr"
        },
        {
          "output_type": "stream",
          "text": [
            "Iteration  1000 ---> Cost  0.07869785651564598\n"
          ],
          "name": "stdout"
        },
        {
          "output_type": "stream",
          "text": [
            " 40%|████      | 2017/5000 [00:24<00:33, 89.47it/s]"
          ],
          "name": "stderr"
        },
        {
          "output_type": "stream",
          "text": [
            "Iteration  2000 ---> Cost  0.06578592732548713\n"
          ],
          "name": "stdout"
        },
        {
          "output_type": "stream",
          "text": [
            " 60%|██████    | 3009/5000 [00:34<00:20, 95.20it/s]"
          ],
          "name": "stderr"
        },
        {
          "output_type": "stream",
          "text": [
            "Iteration  3000 ---> Cost  0.05354890301823616\n"
          ],
          "name": "stdout"
        },
        {
          "output_type": "stream",
          "text": [
            " 80%|████████  | 4015/5000 [00:46<00:11, 86.86it/s]"
          ],
          "name": "stderr"
        },
        {
          "output_type": "stream",
          "text": [
            "Iteration  4000 ---> Cost  0.04847112968564034\n"
          ],
          "name": "stdout"
        },
        {
          "output_type": "stream",
          "text": [
            "100%|██████████| 5000/5000 [00:57<00:00, 87.42it/s]"
          ],
          "name": "stderr"
        },
        {
          "output_type": "stream",
          "text": [
            "Iteration  5000 ---> Cost  0.01965231876820326\n"
          ],
          "name": "stdout"
        },
        {
          "output_type": "stream",
          "text": [
            "\n"
          ],
          "name": "stderr"
        }
      ]
    },
    {
      "cell_type": "code",
      "metadata": {
        "id": "ZP0uzoiZJp1N",
        "colab_type": "code",
        "colab": {
          "base_uri": "https://localhost:8080/",
          "height": 55
        },
        "outputId": "56c5101b-1a4e-46d4-bd41-35fb4386eff4"
      },
      "source": [
        "'''\n",
        "init_op = tf.global_variables_initializer()\n",
        "cost_list=[]\n",
        "test_acc_list=[]\n",
        "train_acc_list=[]\n",
        "parameters={}\n",
        "with tf.Session() as sess:\n",
        "    sess.run(init_op)\n",
        "    for epoch in tqdm(range(epochs)): \n",
        "        _, c = sess.run([optimiser, cost], feed_dict={x: test_x, y: test_y})\n",
        "        cost_list.append(c)\n",
        "        if len(cost_list)%1000==0:\n",
        "            print(\"Iteration \",len(cost_list), \"---> Cost \",cost_list[-1])\n",
        "        parameters['w1']=sess.run(w1)\n",
        "        parameters['w2']=sess.run(w2)\n",
        "        parameters['w3']=sess.run(w3)\n",
        "        parameters['b1']=sess.run(b1)\n",
        "        parameters['b2']=sess.run(b2)\n",
        "        parameters['b3']=sess.run(b3)\n",
        "        test_acc_list.append(predict_results(test_x,test_y,parameters))\n",
        "        train_acc_list.append(predict_results(train_x,train_y,parameters))\n",
        "'''"
      ],
      "execution_count": 11,
      "outputs": [
        {
          "output_type": "execute_result",
          "data": {
            "text/plain": [
              "'\\ninit_op = tf.global_variables_initializer()\\ncost_list=[]\\ntest_acc_list=[]\\ntrain_acc_list=[]\\nparameters={}\\nwith tf.Session() as sess:\\n    sess.run(init_op)\\n    for epoch in tqdm(range(epochs)): \\n        _, c = sess.run([optimiser, cost], feed_dict={x: test_x, y: test_y})\\n        cost_list.append(c)\\n        if len(cost_list)%1000==0:\\n            print(\"Iteration \",len(cost_list), \"---> Cost \",cost_list[-1])\\n        parameters[\\'w1\\']=sess.run(w1)\\n        parameters[\\'w2\\']=sess.run(w2)\\n        parameters[\\'w3\\']=sess.run(w3)\\n        parameters[\\'b1\\']=sess.run(b1)\\n        parameters[\\'b2\\']=sess.run(b2)\\n        parameters[\\'b3\\']=sess.run(b3)\\n        test_acc_list.append(predict_results(test_x,test_y,parameters))\\n        train_acc_list.append(predict_results(train_x,train_y,parameters))\\n'"
            ]
          },
          "metadata": {
            "tags": []
          },
          "execution_count": 11
        }
      ]
    },
    {
      "cell_type": "code",
      "metadata": {
        "id": "YsrvTseh01qm",
        "colab_type": "code",
        "colab": {
          "base_uri": "https://localhost:8080/",
          "height": 283
        },
        "outputId": "d655965f-162a-47fb-c829-70397d4956cd"
      },
      "source": [
        "plt.plot(range(0,len(cost_list)),cost_list)\n",
        "plt.show()\n",
        "print(\"Training Cost=\",cost_list[-1])"
      ],
      "execution_count": 12,
      "outputs": [
        {
          "output_type": "display_data",
          "data": {
            "image/png": "[encoded data removed]",
            "text/plain": [
              "<Figure size 432x288 with 1 Axes>"
            ]
          },
          "metadata": {
            "tags": []
          }
        },
        {
          "output_type": "stream",
          "text": [
            "Training Cost= 0.01965231876820326\n"
          ],
          "name": "stdout"
        }
      ]
    },
    {
      "cell_type": "code",
      "metadata": {
        "id": "sFXFbJMyJIji",
        "colab_type": "code",
        "colab": {
          "base_uri": "https://localhost:8080/",
          "height": 331
        },
        "outputId": "16cea471-2234-48e3-d0b6-85b936fca658"
      },
      "source": [
        "plt.style.use('dark_background')\n",
        "plt.plot(train_acc_list,color='red')\n",
        "plt.plot(test_acc_list,color='green')\n",
        "plt.title('Model accuracy')\n",
        "plt.ylabel('Accuracy')\n",
        "plt.xlabel('Epoch')\n",
        "plt.legend(['Train', 'Test'], loc='upper left')\n",
        "plt.show()\n",
        "print(\"Train Accuracy=\",train_acc_list[-1])\n",
        "print(\"Test Accuracy=\",test_acc_list[-1])"
      ],
      "execution_count": 14,
      "outputs": [
        {
          "output_type": "display_data",
          "data": {
            "image/png": "[encoded data removed]",
            "text/plain": [
              "<Figure size 432x288 with 1 Axes>"
            ]
          },
          "metadata": {
            "tags": []
          }
        },
        {
          "output_type": "stream",
          "text": [
            "Train Accuracy= 98.99497487437186\n",
            "Test Accuracy= 95.32163742690058\n"
          ],
          "name": "stdout"
        }
      ]
    }
  ]
}