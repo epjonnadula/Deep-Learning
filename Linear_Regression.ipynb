{
  "nbformat": 4,
  "nbformat_minor": 0,
  "metadata": {
    "colab": {
      "name": "Linear Regression",
      "provenance": [],
      "include_colab_link": true
    },
    "kernelspec": {
      "name": "python3",
      "display_name": "Python 3"
    }
  },
  "cells": [
    {
      "cell_type": "markdown",
      "metadata": {
        "id": "view-in-github",
        "colab_type": "text"
      },
      "source": [
        "<a href=\"https://colab.research.google.com/github/eshwarprithvi/Deep-Learning/blob/master/Linear_Regression.ipynb\" target=\"_parent\"><img src=\"https://colab.research.google.com/assets/colab-badge.svg\" alt=\"Open In Colab\"/></a>"
      ]
    },
    {
      "cell_type": "code",
      "metadata": {
        "id": "4cXEoGwchSdh",
        "colab_type": "code",
        "colab": {}
      },
      "source": [
        "import numpy as np\n",
        "import pandas as pd\n",
        "from sklearn import preprocessing\n",
        "import matplotlib.pyplot as plt\n",
        "from sklearn import datasets\n",
        "from sklearn.model_selection import train_test_split\n",
        "from sklearn.linear_model import LinearRegression\n",
        "from sklearn.metrics import mean_squared_error"
      ],
      "execution_count": 0,
      "outputs": []
    },
    {
      "cell_type": "code",
      "metadata": {
        "id": "ODI7yJuMDjwh",
        "colab_type": "code",
        "colab": {}
      },
      "source": [
        "boston = datasets.load_boston()\n",
        "bos = pd.DataFrame(boston.data, columns = boston.feature_names)\n",
        "x=bos.RM\n",
        "y=boston.target\n",
        "x=np.array(x).reshape(-1,1)\n",
        "y=np.array(y).reshape(-1,1)\n",
        "x=x/np.mean(x)\n",
        "y=y/np.mean(y)\n",
        "train_x, test_x, train_y, test_y = train_test_split(x, y, test_size = 0.3,shuffle=True)\n",
        "m=np.shape(train_x)[0]\n",
        "train_x=np.nan_to_num(train_x)\n",
        "train_y=np.nan_to_num(train_y)\n",
        "ones=np.ones((m,1))\n",
        "train_x=np.append(ones,train_x,axis=1)\n",
        "n=np.shape(train_x)[1]"
      ],
      "execution_count": 0,
      "outputs": []
    },
    {
      "cell_type": "code",
      "metadata": {
        "id": "txFUSqjPhWe6",
        "colab_type": "code",
        "colab": {}
      },
      "source": [
        "#dataset_train=pd.read_csv('https://raw.githubusercontent.com/eshwarprithvi/Deep-Learning/master/Linear_Regression/train.csv')\n",
        "#dataset_test=pd.read_csv('https://raw.githubusercontent.com/eshwarprithvi/Deep-Learning/master/Linear_Regression/test.csv')"
      ],
      "execution_count": 0,
      "outputs": []
    },
    {
      "cell_type": "code",
      "metadata": {
        "id": "284nMM6Ku6jy",
        "colab_type": "code",
        "colab": {}
      },
      "source": [
        "theta=np.zeros((n,1))"
      ],
      "execution_count": 0,
      "outputs": []
    },
    {
      "cell_type": "code",
      "metadata": {
        "id": "Ry3APObKqcqn",
        "colab_type": "code",
        "colab": {}
      },
      "source": [
        "def hypothesis(theta,x):\n",
        "    return np.matmul(x,theta)"
      ],
      "execution_count": 0,
      "outputs": []
    },
    {
      "cell_type": "code",
      "metadata": {
        "id": "OJ0rdc0JzltG",
        "colab_type": "code",
        "colab": {}
      },
      "source": [
        "def cost(calculated,actual):\n",
        "    diff=np.subtract(calculated,actual)\n",
        "    val=np.matmul(np.transpose(diff),diff)[0][0]\n",
        "    val=val/(2*m)\n",
        "    return val"
      ],
      "execution_count": 0,
      "outputs": []
    },
    {
      "cell_type": "code",
      "metadata": {
        "id": "ZSH5PZJ26AMh",
        "colab_type": "code",
        "colab": {}
      },
      "source": [
        "def gradient_descent(calculated,actual,x,alpha,theta):\n",
        "    diff=np.subtract(calculated,actual)\n",
        "    grad=np.matmul(np.transpose(diff),x)\n",
        "    grads=alpha*(np.transpose(grad)/np.shape(x)[0])\n",
        "    theta=np.subtract(theta,grads)\n",
        "    return theta"
      ],
      "execution_count": 0,
      "outputs": []
    },
    {
      "cell_type": "code",
      "metadata": {
        "id": "Z7NmHj2szCNW",
        "colab_type": "code",
        "outputId": "e58c20c2-4fbb-48cb-dffd-9313ae45f95c",
        "colab": {
          "base_uri": "https://localhost:8080/",
          "height": 53
        }
      },
      "source": [
        "print(np.shape(train_x))\n",
        "print(np.shape(theta))"
      ],
      "execution_count": 8,
      "outputs": [
        {
          "output_type": "stream",
          "text": [
            "(354, 2)\n",
            "(2, 1)\n"
          ],
          "name": "stdout"
        }
      ]
    },
    {
      "cell_type": "code",
      "metadata": {
        "id": "PxPfE-mK0hGL",
        "colab_type": "code",
        "colab": {}
      },
      "source": [
        "itrs=200000\n",
        "cost_list=[]\n",
        "for i in range(itrs):\n",
        "    calculated=hypothesis(theta,train_x)\n",
        "    cost_val=cost(calculated,train_y)\n",
        "    theta=gradient_descent(calculated,train_y,train_x,0.001,theta)\n",
        "    cost_list.append(cost_val)"
      ],
      "execution_count": 0,
      "outputs": []
    },
    {
      "cell_type": "code",
      "metadata": {
        "id": "CBDzpIDf7-p_",
        "colab_type": "code",
        "outputId": "ca59d235-e1da-4101-ecbf-4203f47d0c0a",
        "colab": {
          "base_uri": "https://localhost:8080/",
          "height": 283
        }
      },
      "source": [
        "plt.plot(range(0,itrs),cost_list)\n",
        "plt.show()\n",
        "print(\"Training Cost=\",cost_list[-1])"
      ],
      "execution_count": 10,
      "outputs": [
        {
          "output_type": "display_data",
          "data": {
            "image/png": "[encoded data removed]",
            "text/plain": [
              "<Figure size 432x288 with 1 Axes>"
            ]
          },
          "metadata": {
            "tags": []
          }
        },
        {
          "output_type": "stream",
          "text": [
            "Training Cost= 0.04475336414476134\n"
          ],
          "name": "stdout"
        }
      ]
    },
    {
      "cell_type": "code",
      "metadata": {
        "id": "LYNx1r19-0RQ",
        "colab_type": "code",
        "colab": {}
      },
      "source": [
        "m=np.shape(test_x)[0]\n",
        "test_x=np.nan_to_num(test_x)\n",
        "test_y=np.nan_to_num(test_y)\n",
        "ones=np.ones((m,1))\n",
        "test_x=np.append(ones,test_x,axis=1)\n",
        "n=np.shape(test_x)[1]"
      ],
      "execution_count": 0,
      "outputs": []
    },
    {
      "cell_type": "code",
      "metadata": {
        "id": "CtTFvBlp_yEz",
        "colab_type": "code",
        "outputId": "f2f7d45b-4216-4249-fb30-e66c74a6f3d4",
        "colab": {
          "base_uri": "https://localhost:8080/",
          "height": 283
        }
      },
      "source": [
        "calculated=hypothesis(theta,test_x)\n",
        "plt.scatter(test_y,calculated)\n",
        "plt.show()\n",
        "cost_val=cost(calculated,test_y)\n",
        "print(\"Test Cost=\",cost_val)"
      ],
      "execution_count": 12,
      "outputs": [
        {
          "output_type": "display_data",
          "data": {
            "image/png": "[encoded data removed]",
            "text/plain": [
              "<Figure size 432x288 with 1 Axes>"
            ]
          },
          "metadata": {
            "tags": []
          }
        },
        {
          "output_type": "stream",
          "text": [
            "Test Cost= 0.0482813894461214\n"
          ],
          "name": "stdout"
        }
      ]
    },
    {
      "cell_type": "code",
      "metadata": {
        "id": "pokQCVR5RvCL",
        "colab_type": "code",
        "outputId": "19a44b14-01c0-40d3-ec35-c4cd0fa3711e",
        "colab": {
          "base_uri": "https://localhost:8080/",
          "height": 35
        }
      },
      "source": [
        "reg = LinearRegression()\n",
        "reg.fit(train_x, train_y)\n",
        "predict_y = reg.predict(test_x)\n",
        "\n",
        "print(\"Testing Cost\",cost(predict_y,test_y))"
      ],
      "execution_count": 13,
      "outputs": [
        {
          "output_type": "stream",
          "text": [
            "Testing Cost 0.04330859488701752\n"
          ],
          "name": "stdout"
        }
      ]
    }
  ]
}