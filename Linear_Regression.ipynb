{
  "nbformat": 4,
  "nbformat_minor": 0,
  "metadata": {
    "colab": {
      "name": "Linear Regression",
      "provenance": [],
      "include_colab_link": true
    },
    "kernelspec": {
      "name": "python3",
      "display_name": "Python 3"
    },
    "widgets": {
      "application/vnd.jupyter.widget-state+json": {
        "ddc97981a25e4a54aba0873577d6db87": {
          "model_module": "@jupyter-widgets/controls",
          "model_name": "FloatLogSliderModel",
          "state": {
            "_view_name": "FloatLogSliderView",
            "orientation": "horizontal",
            "_view_module": "@jupyter-widgets/controls",
            "_model_module_version": "1.5.0",
            "_view_count": null,
            "disabled": false,
            "readout_format": ".3g",
            "_model_module": "@jupyter-widgets/controls",
            "style": "IPY_MODEL_cfd069d282db484c8c6a994f4a375fe3",
            "layout": "IPY_MODEL_0854477f823b4143a5d60f0de7e56fe0",
            "min": -8,
            "continuous_update": true,
            "description_tooltip": null,
            "_dom_classes": [],
            "description": "Epsilon Value",
            "_model_name": "FloatLogSliderModel",
            "max": -1,
            "readout": true,
            "step": 1,
            "base": 10,
            "value": 1e-8,
            "_view_module_version": "1.5.0"
          }
        },
        "cfd069d282db484c8c6a994f4a375fe3": {
          "model_module": "@jupyter-widgets/controls",
          "model_name": "SliderStyleModel",
          "state": {
            "_view_name": "StyleView",
            "handle_color": null,
            "_model_name": "SliderStyleModel",
            "description_width": "",
            "_view_module": "@jupyter-widgets/base",
            "_model_module_version": "1.5.0",
            "_view_count": null,
            "_view_module_version": "1.2.0",
            "_model_module": "@jupyter-widgets/controls"
          }
        },
        "0854477f823b4143a5d60f0de7e56fe0": {
          "model_module": "@jupyter-widgets/base",
          "model_name": "LayoutModel",
          "state": {
            "_view_name": "LayoutView",
            "grid_template_rows": null,
            "right": null,
            "justify_content": null,
            "_view_module": "@jupyter-widgets/base",
            "overflow": null,
            "_model_module_version": "1.2.0",
            "_view_count": null,
            "flex_flow": null,
            "width": null,
            "min_width": null,
            "border": null,
            "align_items": null,
            "bottom": null,
            "_model_module": "@jupyter-widgets/base",
            "top": null,
            "grid_column": null,
            "overflow_y": null,
            "overflow_x": null,
            "grid_auto_flow": null,
            "grid_area": null,
            "grid_template_columns": null,
            "flex": null,
            "_model_name": "LayoutModel",
            "justify_items": null,
            "grid_row": null,
            "max_height": null,
            "align_content": null,
            "visibility": null,
            "align_self": null,
            "height": null,
            "min_height": null,
            "padding": null,
            "grid_auto_rows": null,
            "grid_gap": null,
            "max_width": null,
            "order": null,
            "_view_module_version": "1.2.0",
            "grid_template_areas": null,
            "object_position": null,
            "object_fit": null,
            "grid_auto_columns": null,
            "margin": null,
            "display": null,
            "left": null
          }
        },
        "e964ef068ce6458e9775c3546b45ee66": {
          "model_module": "@jupyter-widgets/controls",
          "model_name": "FloatLogSliderModel",
          "state": {
            "_view_name": "FloatLogSliderView",
            "orientation": "horizontal",
            "_view_module": "@jupyter-widgets/controls",
            "_model_module_version": "1.5.0",
            "_view_count": null,
            "disabled": false,
            "readout_format": ".3g",
            "_model_module": "@jupyter-widgets/controls",
            "style": "IPY_MODEL_975bf9ccb4a2439fa4cf5a99e211ce85",
            "layout": "IPY_MODEL_374c736ca3ae4856be93b770543f2740",
            "min": -4,
            "continuous_update": true,
            "description_tooltip": null,
            "_dom_classes": [],
            "description": "Alpha Value",
            "_model_name": "FloatLogSliderModel",
            "max": -1,
            "readout": true,
            "step": 1,
            "base": 10,
            "value": 0.0001,
            "_view_module_version": "1.5.0"
          }
        },
        "975bf9ccb4a2439fa4cf5a99e211ce85": {
          "model_module": "@jupyter-widgets/controls",
          "model_name": "SliderStyleModel",
          "state": {
            "_view_name": "StyleView",
            "handle_color": null,
            "_model_name": "SliderStyleModel",
            "description_width": "",
            "_view_module": "@jupyter-widgets/base",
            "_model_module_version": "1.5.0",
            "_view_count": null,
            "_view_module_version": "1.2.0",
            "_model_module": "@jupyter-widgets/controls"
          }
        },
        "374c736ca3ae4856be93b770543f2740": {
          "model_module": "@jupyter-widgets/base",
          "model_name": "LayoutModel",
          "state": {
            "_view_name": "LayoutView",
            "grid_template_rows": null,
            "right": null,
            "justify_content": null,
            "_view_module": "@jupyter-widgets/base",
            "overflow": null,
            "_model_module_version": "1.2.0",
            "_view_count": null,
            "flex_flow": null,
            "width": null,
            "min_width": null,
            "border": null,
            "align_items": null,
            "bottom": null,
            "_model_module": "@jupyter-widgets/base",
            "top": null,
            "grid_column": null,
            "overflow_y": null,
            "overflow_x": null,
            "grid_auto_flow": null,
            "grid_area": null,
            "grid_template_columns": null,
            "flex": null,
            "_model_name": "LayoutModel",
            "justify_items": null,
            "grid_row": null,
            "max_height": null,
            "align_content": null,
            "visibility": null,
            "align_self": null,
            "height": null,
            "min_height": null,
            "padding": null,
            "grid_auto_rows": null,
            "grid_gap": null,
            "max_width": null,
            "order": null,
            "_view_module_version": "1.2.0",
            "grid_template_areas": null,
            "object_position": null,
            "object_fit": null,
            "grid_auto_columns": null,
            "margin": null,
            "display": null,
            "left": null
          }
        }
      }
    }
  },
  "cells": [
    {
      "cell_type": "markdown",
      "metadata": {
        "id": "view-in-github",
        "colab_type": "text"
      },
      "source": [
        "<a href=\"https://colab.research.google.com/github/epjonnadula/Deep-Learning/blob/master/Linear_Regression.ipynb\" target=\"_parent\"><img src=\"https://colab.research.google.com/assets/colab-badge.svg\" alt=\"Open In Colab\"/></a>"
      ]
    },
    {
      "cell_type": "code",
      "metadata": {
        "id": "4cXEoGwchSdh",
        "colab_type": "code",
        "colab": {}
      },
      "source": [
        "import numpy as np\n",
        "import pandas as pd\n",
        "from sklearn import preprocessing\n",
        "import matplotlib.pyplot as plt\n",
        "from sklearn import datasets\n",
        "from sklearn.model_selection import train_test_split\n",
        "from sklearn.linear_model import LinearRegression\n",
        "from sklearn.metrics import mean_squared_error\n",
        "import sys\n",
        "import seaborn as sns\n",
        "import ipywidgets as widgets"
      ],
      "execution_count": 0,
      "outputs": []
    },
    {
      "cell_type": "code",
      "metadata": {
        "id": "ODI7yJuMDjwh",
        "colab_type": "code",
        "colab": {}
      },
      "source": [
        "boston = datasets.load_boston()\n",
        "bos = pd.DataFrame(boston.data, columns = boston.feature_names)\n",
        "x=bos.RM\n",
        "y=boston.target\n",
        "x=np.array(x).reshape(-1,1)\n",
        "y=np.array(y).reshape(-1,1)\n",
        "x=x/np.mean(x)\n",
        "y=y/np.mean(y)\n",
        "train_x, test_x, train_y, test_y = train_test_split(x, y, test_size = 0.3,shuffle=True)\n",
        "m=np.shape(train_x)[0]\n",
        "train_x=np.nan_to_num(train_x)\n",
        "train_y=np.nan_to_num(train_y)\n",
        "ones=np.ones((m,1))\n",
        "train_x=np.append(ones,train_x,axis=1)\n",
        "n=np.shape(train_x)[1]"
      ],
      "execution_count": 0,
      "outputs": []
    },
    {
      "cell_type": "code",
      "metadata": {
        "id": "o4ZAazEkyA_V",
        "colab_type": "code",
        "outputId": "570dcfad-c5d2-44ad-d06a-7be9ec158529",
        "colab": {
          "base_uri": "https://localhost:8080/",
          "height": 964
        }
      },
      "source": [
        "print(boston.DESCR)\n"
      ],
      "execution_count": 3,
      "outputs": [
        {
          "output_type": "stream",
          "text": [
            ".. _boston_dataset:\n",
            "\n",
            "Boston house prices dataset\n",
            "---------------------------\n",
            "\n",
            "**Data Set Characteristics:**  \n",
            "\n",
            "    :Number of Instances: 506 \n",
            "\n",
            "    :Number of Attributes: 13 numeric/categorical predictive. Median Value (attribute 14) is usually the target.\n",
            "\n",
            "    :Attribute Information (in order):\n",
            "        - CRIM     per capita crime rate by town\n",
            "        - ZN       proportion of residential land zoned for lots over 25,000 sq.ft.\n",
            "        - INDUS    proportion of non-retail business acres per town\n",
            "        - CHAS     Charles River dummy variable (= 1 if tract bounds river; 0 otherwise)\n",
            "        - NOX      nitric oxides concentration (parts per 10 million)\n",
            "        - RM       average number of rooms per dwelling\n",
            "        - AGE      proportion of owner-occupied units built prior to 1940\n",
            "        - DIS      weighted distances to five Boston employment centres\n",
            "        - RAD      index of accessibility to radial highways\n",
            "        - TAX      full-value property-tax rate per $10,000\n",
            "        - PTRATIO  pupil-teacher ratio by town\n",
            "        - B        1000(Bk - 0.63)^2 where Bk is the proportion of blacks by town\n",
            "        - LSTAT    % lower status of the population\n",
            "        - MEDV     Median value of owner-occupied homes in $1000's\n",
            "\n",
            "    :Missing Attribute Values: None\n",
            "\n",
            "    :Creator: Harrison, D. and Rubinfeld, D.L.\n",
            "\n",
            "This is a copy of UCI ML housing dataset.\n",
            "https://archive.ics.uci.edu/ml/machine-learning-databases/housing/\n",
            "\n",
            "\n",
            "This dataset was taken from the StatLib library which is maintained at Carnegie Mellon University.\n",
            "\n",
            "The Boston house-price data of Harrison, D. and Rubinfeld, D.L. 'Hedonic\n",
            "prices and the demand for clean air', J. Environ. Economics & Management,\n",
            "vol.5, 81-102, 1978.   Used in Belsley, Kuh & Welsch, 'Regression diagnostics\n",
            "...', Wiley, 1980.   N.B. Various transformations are used in the table on\n",
            "pages 244-261 of the latter.\n",
            "\n",
            "The Boston house-price data has been used in many machine learning papers that address regression\n",
            "problems.   \n",
            "     \n",
            ".. topic:: References\n",
            "\n",
            "   - Belsley, Kuh & Welsch, 'Regression diagnostics: Identifying Influential Data and Sources of Collinearity', Wiley, 1980. 244-261.\n",
            "   - Quinlan,R. (1993). Combining Instance-Based and Model-Based Learning. In Proceedings on the Tenth International Conference of Machine Learning, 236-243, University of Massachusetts, Amherst. Morgan Kaufmann.\n",
            "\n"
          ],
          "name": "stdout"
        }
      ]
    },
    {
      "cell_type": "code",
      "metadata": {
        "id": "Ry3APObKqcqn",
        "colab_type": "code",
        "colab": {}
      },
      "source": [
        "def hypothesis(theta,x):\n",
        "    return np.matmul(x,theta)"
      ],
      "execution_count": 0,
      "outputs": []
    },
    {
      "cell_type": "code",
      "metadata": {
        "id": "OJ0rdc0JzltG",
        "colab_type": "code",
        "colab": {}
      },
      "source": [
        "def cost(calculated,actual):\n",
        "    diff=np.subtract(calculated,actual)\n",
        "    val=np.matmul(np.transpose(diff),diff)[0][0]\n",
        "    val=val/(2*m)\n",
        "    return val"
      ],
      "execution_count": 0,
      "outputs": []
    },
    {
      "cell_type": "code",
      "metadata": {
        "id": "ZSH5PZJ26AMh",
        "colab_type": "code",
        "colab": {}
      },
      "source": [
        "def gradient_descent(calculated,actual,x,alpha,theta):\n",
        "    diff=np.subtract(calculated,actual)\n",
        "    grad=np.matmul(np.transpose(diff),x)\n",
        "    grads=alpha*(np.transpose(grad)/np.shape(x)[0])\n",
        "    theta=np.subtract(theta,grads)\n",
        "    return theta"
      ],
      "execution_count": 0,
      "outputs": []
    },
    {
      "cell_type": "code",
      "metadata": {
        "id": "Cvqwlcy3gNIw",
        "colab_type": "code",
        "colab": {
          "base_uri": "https://localhost:8080/",
          "height": 49,
          "referenced_widgets": [
            "ddc97981a25e4a54aba0873577d6db87",
            "cfd069d282db484c8c6a994f4a375fe3",
            "0854477f823b4143a5d60f0de7e56fe0"
          ]
        },
        "cellView": "form",
        "outputId": "ca233ff6-43c4-4a53-c1c9-08c34abe8c5a"
      },
      "source": [
        "#@title ## Epsilon\n",
        "#@markdown Run and play with the slider to select the Epsilon.\n",
        "epsilon_slider=widgets.FloatLogSlider(\n",
        "    value=-8,\n",
        "    base=10,\n",
        "    min=-8, \n",
        "    max=-1, \n",
        "    step=1,\n",
        "    description='Epsilon Value'\n",
        ")\n",
        "display(epsilon_slider)"
      ],
      "execution_count": 7,
      "outputs": [
        {
          "output_type": "display_data",
          "data": {
            "application/vnd.jupyter.widget-view+json": {
              "model_id": "ddc97981a25e4a54aba0873577d6db87",
              "version_minor": 0,
              "version_major": 2
            },
            "text/plain": [
              "FloatLogSlider(value=1e-08, description='Epsilon Value', max=-1.0, min=-8.0, step=1.0)"
            ]
          },
          "metadata": {
            "tags": []
          }
        }
      ]
    },
    {
      "cell_type": "code",
      "metadata": {
        "id": "lzpO0tHPgP69",
        "colab_type": "code",
        "colab": {
          "base_uri": "https://localhost:8080/",
          "height": 49,
          "referenced_widgets": [
            "e964ef068ce6458e9775c3546b45ee66",
            "975bf9ccb4a2439fa4cf5a99e211ce85",
            "374c736ca3ae4856be93b770543f2740"
          ]
        },
        "cellView": "form",
        "outputId": "cb4db83c-2221-4dd0-f9f7-34f4f1d00f2d"
      },
      "source": [
        "#@title ## Learning Rate\n",
        "#@markdown Run and play with the slider to select the learning rate.\n",
        "alpha_slider=widgets.FloatLogSlider(\n",
        "    value=-4,\n",
        "    base=10,\n",
        "    min=-4, \n",
        "    max=-1, \n",
        "    step=1,\n",
        "    description='Alpha Value'\n",
        ")\n",
        "display(alpha_slider)"
      ],
      "execution_count": 8,
      "outputs": [
        {
          "output_type": "display_data",
          "data": {
            "application/vnd.jupyter.widget-view+json": {
              "model_id": "e964ef068ce6458e9775c3546b45ee66",
              "version_minor": 0,
              "version_major": 2
            },
            "text/plain": [
              "FloatLogSlider(value=0.0001, description='Alpha Value', max=-1.0, min=-4.0, step=1.0)"
            ]
          },
          "metadata": {
            "tags": []
          }
        }
      ]
    },
    {
      "cell_type": "code",
      "metadata": {
        "id": "gOVeS5DSZ103",
        "colab_type": "code",
        "colab": {
          "base_uri": "https://localhost:8080/",
          "height": 762
        },
        "outputId": "47602216-c24f-4113-aeba-6daaee4197d1"
      },
      "source": [
        "prev_cost=sys.maxsize\n",
        "cost_list=[]\n",
        "epsilon=epsilon_slider.value\n",
        "theta=np.zeros((n,1))\n",
        "theta[-1]=1\n",
        "while True:\n",
        "    calculated=hypothesis(theta,train_x)\n",
        "    cost_val=cost(calculated,train_y)\n",
        "    theta=gradient_descent(calculated,train_y,train_x,alpha_slider.value,theta)\n",
        "    cost_list.append(cost_val)\n",
        "    if np.abs(cost_val-prev_cost)<=epsilon:\n",
        "        break\n",
        "    else:\n",
        "        prev_cost=cost_val\n",
        "    if len(cost_list)%10000==0:\n",
        "        print(\"Iteration \",len(cost_list), \"---> Cost \",cost_list[-1])"
      ],
      "execution_count": 9,
      "outputs": [
        {
          "output_type": "stream",
          "text": [
            "Iteration  10000 ---> Cost  0.05535047255259391\n",
            "Iteration  20000 ---> Cost  0.055193321382042214\n",
            "Iteration  30000 ---> Cost  0.05503829099242899\n",
            "Iteration  40000 ---> Cost  0.0548849973372246\n",
            "Iteration  50000 ---> Cost  0.054733414522874245\n",
            "Iteration  60000 ---> Cost  0.05458352333912663\n",
            "Iteration  70000 ---> Cost  0.05443530490565699\n",
            "Iteration  80000 ---> Cost  0.05428874055492846\n",
            "Iteration  90000 ---> Cost  0.05414381182776739\n",
            "Iteration  100000 ---> Cost  0.05400050047100074\n",
            "Iteration  110000 ---> Cost  0.05385878843515649\n",
            "Iteration  120000 ---> Cost  0.0537186578721907\n",
            "Iteration  130000 ---> Cost  0.053580091133239215\n",
            "Iteration  140000 ---> Cost  0.05344307076639498\n",
            "Iteration  150000 ---> Cost  0.05330757951451027\n",
            "Iteration  160000 ---> Cost  0.053173600313022956\n",
            "Iteration  170000 ---> Cost  0.053041116287807444\n",
            "Iteration  180000 ---> Cost  0.052910110753049404\n",
            "Iteration  190000 ---> Cost  0.05278056720914415\n",
            "Iteration  200000 ---> Cost  0.05265246934061883\n",
            "Iteration  210000 ---> Cost  0.05252580101407731\n",
            "Iteration  220000 ---> Cost  0.05240054627616838\n",
            "Iteration  230000 ---> Cost  0.052276689351576575\n",
            "Iteration  240000 ---> Cost  0.05215421464103507\n",
            "Iteration  250000 ---> Cost  0.05203310671936131\n",
            "Iteration  260000 ---> Cost  0.051913350333514005\n",
            "Iteration  270000 ---> Cost  0.05179493040067221\n",
            "Iteration  280000 ---> Cost  0.05167783200633585\n",
            "Iteration  290000 ---> Cost  0.05156204040244708\n",
            "Iteration  300000 ---> Cost  0.05144754100553287\n",
            "Iteration  310000 ---> Cost  0.051334319394868405\n",
            "Iteration  320000 ---> Cost  0.05122236131066045\n",
            "Iteration  330000 ---> Cost  0.051111652652251954\n",
            "Iteration  340000 ---> Cost  0.051002179476346124\n",
            "Iteration  350000 ---> Cost  0.05089392799524953\n",
            "Iteration  360000 ---> Cost  0.050786884575136464\n",
            "Iteration  370000 ---> Cost  0.050681035734331525\n",
            "Iteration  380000 ---> Cost  0.05057636814161142\n",
            "Iteration  390000 ---> Cost  0.05047286861452628\n",
            "Iteration  400000 ---> Cost  0.050370524117739214\n",
            "Iteration  410000 ---> Cost  0.05026932176138469\n"
          ],
          "name": "stdout"
        }
      ]
    },
    {
      "cell_type": "code",
      "metadata": {
        "id": "CBDzpIDf7-p_",
        "colab_type": "code",
        "outputId": "a6863b47-029f-415c-9b01-3a7f015f5506",
        "colab": {
          "base_uri": "https://localhost:8080/",
          "height": 313
        }
      },
      "source": [
        "plt.style.use('dark_background')\n",
        "plt.plot(range(0,len(cost_list)),cost_list,color='blue')\n",
        "plt.xlabel('Iteration')\n",
        "plt.ylabel('Cost Value')\n",
        "plt.title('Cost Function Vs Iteration')\n",
        "plt.show()\n",
        "print(\"Training Cost=\",cost_list[-1])"
      ],
      "execution_count": 10,
      "outputs": [
        {
          "output_type": "display_data",
          "data": {
            "image/png": "[encoded data removed]",
            "text/plain": [
              "<Figure size 432x288 with 1 Axes>"
            ]
          },
          "metadata": {
            "tags": []
          }
        },
        {
          "output_type": "stream",
          "text": [
            "Training Cost= 0.05021268256054224\n"
          ],
          "name": "stdout"
        }
      ]
    },
    {
      "cell_type": "code",
      "metadata": {
        "id": "LYNx1r19-0RQ",
        "colab_type": "code",
        "colab": {}
      },
      "source": [
        "temp_test_x=test_x\n",
        "m=np.shape(temp_test_x)[0]\n",
        "temp_test_x=np.nan_to_num(temp_test_x)\n",
        "test_y=np.nan_to_num(test_y)\n",
        "ones=np.ones((m,1))\n",
        "temp_test_x=np.append(ones,temp_test_x,axis=1)\n",
        "n=np.shape(temp_test_x)[1]"
      ],
      "execution_count": 0,
      "outputs": []
    },
    {
      "cell_type": "code",
      "metadata": {
        "id": "CtTFvBlp_yEz",
        "colab_type": "code",
        "outputId": "510157fb-abec-442b-9de0-af74b37a4211",
        "colab": {
          "base_uri": "https://localhost:8080/",
          "height": 316
        }
      },
      "source": [
        "calculated=hypothesis(theta,temp_test_x)\n",
        "plt.style.use('dark_background')\n",
        "plt.plot(temp_test_x[:,-1],calculated,color='red')\n",
        "plt.scatter(temp_test_x[:,-1],test_y,color='green')\n",
        "plt.xlabel('Average number of rooms per dwelling')\n",
        "plt.ylabel('Median value of owner-occupied homes in $1000\\'s')\n",
        "plt.legend(['Predicted', 'Actual'], loc='upper left')\n",
        "plt.title('Linear Regression Implementation')\n",
        "plt.show()\n",
        "cost_val=cost(calculated,test_y)\n",
        "print(\"Testing Cost=\",cost_val)"
      ],
      "execution_count": 12,
      "outputs": [
        {
          "output_type": "display_data",
          "data": {
            "image/png": "[encoded data removed]",
            "text/plain": [
              "<Figure size 432x288 with 1 Axes>"
            ]
          },
          "metadata": {
            "tags": []
          }
        },
        {
          "output_type": "stream",
          "text": [
            "Testing Cost= 0.05661041172313241\n"
          ],
          "name": "stdout"
        }
      ]
    },
    {
      "cell_type": "code",
      "metadata": {
        "id": "pokQCVR5RvCL",
        "colab_type": "code",
        "outputId": "f1626da3-9829-4198-8aaf-835cff7c1310",
        "colab": {
          "base_uri": "https://localhost:8080/",
          "height": 316
        }
      },
      "source": [
        "reg = LinearRegression()\n",
        "reg.fit(train_x, train_y)\n",
        "predict_y = reg.predict(temp_test_x)\n",
        "plt.style.use('dark_background')\n",
        "plt.plot(temp_test_x[:,-1],predict_y,color='red')\n",
        "plt.scatter(temp_test_x[:,-1],test_y,color='green')\n",
        "plt.xlabel('Average number of rooms per dwelling')\n",
        "plt.ylabel('Median value of owner-occupied homes in $1000\\'s')\n",
        "plt.legend(['Predicted', 'Actual'], loc='upper left')\n",
        "plt.title('Linear Regression Library')\n",
        "plt.show()\n",
        "print(\"Testing Cost\",cost(predict_y,test_y))"
      ],
      "execution_count": 13,
      "outputs": [
        {
          "output_type": "display_data",
          "data": {
            "image/png": "[encoded data removed]",
            "text/plain": [
              "<Figure size 432x288 with 1 Axes>"
            ]
          },
          "metadata": {
            "tags": []
          }
        },
        {
          "output_type": "stream",
          "text": [
            "Testing Cost 0.04722182183880962\n"
          ],
          "name": "stdout"
        }
      ]
    }
  ]
}