{
  "nbformat": 4,
  "nbformat_minor": 0,
  "metadata": {
    "colab": {
      "name": "Linear Regression",
      "provenance": [],
      "include_colab_link": true
    },
    "kernelspec": {
      "name": "python3",
      "display_name": "Python 3"
    }
  },
  "cells": [
    {
      "cell_type": "markdown",
      "metadata": {
        "id": "view-in-github",
        "colab_type": "text"
      },
      "source": [
        "<a href=\"https://colab.research.google.com/github/epjonnadula/Deep-Learning/blob/master/Linear_Regression.ipynb\" target=\"_parent\"><img src=\"https://colab.research.google.com/assets/colab-badge.svg\" alt=\"Open In Colab\"/></a>"
      ]
    },
    {
      "cell_type": "code",
      "metadata": {
        "id": "4cXEoGwchSdh",
        "colab_type": "code",
        "colab": {}
      },
      "source": [
        "import numpy as np\n",
        "import pandas as pd\n",
        "from sklearn import preprocessing\n",
        "import matplotlib.pyplot as plt\n",
        "from sklearn import datasets\n",
        "from sklearn.model_selection import train_test_split\n",
        "from sklearn.linear_model import LinearRegression\n",
        "from sklearn.metrics import mean_squared_error\n",
        "import sys"
      ],
      "execution_count": 0,
      "outputs": []
    },
    {
      "cell_type": "code",
      "metadata": {
        "id": "ODI7yJuMDjwh",
        "colab_type": "code",
        "colab": {}
      },
      "source": [
        "boston = datasets.load_boston()\n",
        "bos = pd.DataFrame(boston.data, columns = boston.feature_names)\n",
        "x=bos.RM\n",
        "y=boston.target\n",
        "x=np.array(x).reshape(-1,1)\n",
        "y=np.array(y).reshape(-1,1)\n",
        "x=x/np.mean(x)\n",
        "y=y/np.mean(y)\n",
        "train_x, test_x, train_y, test_y = train_test_split(x, y, test_size = 0.3,shuffle=True)\n",
        "m=np.shape(train_x)[0]\n",
        "train_x=np.nan_to_num(train_x)\n",
        "train_y=np.nan_to_num(train_y)\n",
        "ones=np.ones((m,1))\n",
        "train_x=np.append(ones,train_x,axis=1)\n",
        "n=np.shape(train_x)[1]"
      ],
      "execution_count": 0,
      "outputs": []
    },
    {
      "cell_type": "code",
      "metadata": {
        "id": "txFUSqjPhWe6",
        "colab_type": "code",
        "colab": {}
      },
      "source": [
        "#dataset_train=pd.read_csv('https://raw.githubusercontent.com/eshwarprithvi/Deep-Learning/master/Linear_Regression/train.csv')\n",
        "#dataset_test=pd.read_csv('https://raw.githubusercontent.com/eshwarprithvi/Deep-Learning/master/Linear_Regression/test.csv')"
      ],
      "execution_count": 0,
      "outputs": []
    },
    {
      "cell_type": "code",
      "metadata": {
        "id": "Ry3APObKqcqn",
        "colab_type": "code",
        "colab": {}
      },
      "source": [
        "def hypothesis(theta,x):\n",
        "    return np.matmul(x,theta)"
      ],
      "execution_count": 0,
      "outputs": []
    },
    {
      "cell_type": "code",
      "metadata": {
        "id": "OJ0rdc0JzltG",
        "colab_type": "code",
        "colab": {}
      },
      "source": [
        "def cost(calculated,actual):\n",
        "    diff=np.subtract(calculated,actual)\n",
        "    val=np.matmul(np.transpose(diff),diff)[0][0]\n",
        "    val=val/(2*m)\n",
        "    return val"
      ],
      "execution_count": 0,
      "outputs": []
    },
    {
      "cell_type": "code",
      "metadata": {
        "id": "ZSH5PZJ26AMh",
        "colab_type": "code",
        "colab": {}
      },
      "source": [
        "def gradient_descent(calculated,actual,x,alpha,theta):\n",
        "    diff=np.subtract(calculated,actual)\n",
        "    grad=np.matmul(np.transpose(diff),x)\n",
        "    grads=alpha*(np.transpose(grad)/np.shape(x)[0])\n",
        "    theta=np.subtract(theta,grads)\n",
        "    return theta"
      ],
      "execution_count": 0,
      "outputs": []
    },
    {
      "cell_type": "code",
      "metadata": {
        "id": "PxPfE-mK0hGL",
        "colab_type": "code",
        "colab": {
          "base_uri": "https://localhost:8080/",
          "height": 54
        },
        "outputId": "b8ffec9d-7a46-4685-eb9b-08043073f168"
      },
      "source": [
        "'''\n",
        "itrs=200000\n",
        "cost_list=[]\n",
        "theta=np.zeros((n,1))\n",
        "for i in range(itrs):\n",
        "    calculated=hypothesis(theta,train_x)\n",
        "    cost_val=cost(calculated,train_y)\n",
        "    theta=gradient_descent(calculated,train_y,train_x,0.001,theta)\n",
        "    cost_list.append(cost_val)\n",
        "'''"
      ],
      "execution_count": 7,
      "outputs": [
        {
          "output_type": "execute_result",
          "data": {
            "text/plain": [
              "'\\nitrs=200000\\ncost_list=[]\\ntheta=np.zeros((n,1))\\nfor i in range(itrs):\\n    calculated=hypothesis(theta,train_x)\\n    cost_val=cost(calculated,train_y)\\n    theta=gradient_descent(calculated,train_y,train_x,0.001,theta)\\n    cost_list.append(cost_val)\\n'"
            ]
          },
          "metadata": {
            "tags": []
          },
          "execution_count": 7
        }
      ]
    },
    {
      "cell_type": "code",
      "metadata": {
        "id": "pKhzg6USVaCK",
        "colab_type": "code",
        "colab": {
          "base_uri": "https://localhost:8080/",
          "height": 1000
        },
        "outputId": "cf7a70a0-e135-42b5-a7f7-4e9248d0dbde"
      },
      "source": [
        "prev_cost=sys.maxsize\n",
        "cost_list=[]\n",
        "epsilon=0.00000001\n",
        "theta=np.zeros((n,1))\n",
        "while True:\n",
        "    calculated=hypothesis(theta,train_x)\n",
        "    cost_val=cost(calculated,train_y)\n",
        "    theta=gradient_descent(calculated,train_y,train_x,0.001,theta)\n",
        "    cost_list.append(cost_val)\n",
        "    if np.abs(cost_val-prev_cost)<=epsilon:\n",
        "        break\n",
        "    else:\n",
        "        prev_cost=cost_val\n",
        "    if len(cost_list)%1000==0:\n",
        "        print(\"Iteration \",len(cost_list))"
      ],
      "execution_count": 8,
      "outputs": [
        {
          "output_type": "stream",
          "text": [
            "Iteration  1000\n",
            "Iteration  2000\n",
            "Iteration  3000\n",
            "Iteration  4000\n",
            "Iteration  5000\n",
            "Iteration  6000\n",
            "Iteration  7000\n",
            "Iteration  8000\n",
            "Iteration  9000\n",
            "Iteration  10000\n",
            "Iteration  11000\n",
            "Iteration  12000\n",
            "Iteration  13000\n",
            "Iteration  14000\n",
            "Iteration  15000\n",
            "Iteration  16000\n",
            "Iteration  17000\n",
            "Iteration  18000\n",
            "Iteration  19000\n",
            "Iteration  20000\n",
            "Iteration  21000\n",
            "Iteration  22000\n",
            "Iteration  23000\n",
            "Iteration  24000\n",
            "Iteration  25000\n",
            "Iteration  26000\n",
            "Iteration  27000\n",
            "Iteration  28000\n",
            "Iteration  29000\n",
            "Iteration  30000\n",
            "Iteration  31000\n",
            "Iteration  32000\n",
            "Iteration  33000\n",
            "Iteration  34000\n",
            "Iteration  35000\n",
            "Iteration  36000\n",
            "Iteration  37000\n",
            "Iteration  38000\n",
            "Iteration  39000\n",
            "Iteration  40000\n",
            "Iteration  41000\n",
            "Iteration  42000\n",
            "Iteration  43000\n",
            "Iteration  44000\n",
            "Iteration  45000\n",
            "Iteration  46000\n",
            "Iteration  47000\n",
            "Iteration  48000\n",
            "Iteration  49000\n",
            "Iteration  50000\n",
            "Iteration  51000\n",
            "Iteration  52000\n",
            "Iteration  53000\n",
            "Iteration  54000\n",
            "Iteration  55000\n",
            "Iteration  56000\n",
            "Iteration  57000\n",
            "Iteration  58000\n",
            "Iteration  59000\n",
            "Iteration  60000\n",
            "Iteration  61000\n",
            "Iteration  62000\n",
            "Iteration  63000\n",
            "Iteration  64000\n",
            "Iteration  65000\n",
            "Iteration  66000\n",
            "Iteration  67000\n",
            "Iteration  68000\n",
            "Iteration  69000\n",
            "Iteration  70000\n",
            "Iteration  71000\n",
            "Iteration  72000\n",
            "Iteration  73000\n",
            "Iteration  74000\n",
            "Iteration  75000\n",
            "Iteration  76000\n",
            "Iteration  77000\n",
            "Iteration  78000\n",
            "Iteration  79000\n",
            "Iteration  80000\n",
            "Iteration  81000\n",
            "Iteration  82000\n",
            "Iteration  83000\n",
            "Iteration  84000\n",
            "Iteration  85000\n",
            "Iteration  86000\n",
            "Iteration  87000\n",
            "Iteration  88000\n",
            "Iteration  89000\n",
            "Iteration  90000\n",
            "Iteration  91000\n",
            "Iteration  92000\n",
            "Iteration  93000\n",
            "Iteration  94000\n",
            "Iteration  95000\n",
            "Iteration  96000\n",
            "Iteration  97000\n",
            "Iteration  98000\n",
            "Iteration  99000\n",
            "Iteration  100000\n",
            "Iteration  101000\n",
            "Iteration  102000\n",
            "Iteration  103000\n",
            "Iteration  104000\n",
            "Iteration  105000\n",
            "Iteration  106000\n",
            "Iteration  107000\n",
            "Iteration  108000\n",
            "Iteration  109000\n",
            "Iteration  110000\n",
            "Iteration  111000\n",
            "Iteration  112000\n",
            "Iteration  113000\n",
            "Iteration  114000\n",
            "Iteration  115000\n",
            "Iteration  116000\n",
            "Iteration  117000\n",
            "Iteration  118000\n",
            "Iteration  119000\n",
            "Iteration  120000\n",
            "Iteration  121000\n",
            "Iteration  122000\n",
            "Iteration  123000\n",
            "Iteration  124000\n",
            "Iteration  125000\n",
            "Iteration  126000\n",
            "Iteration  127000\n",
            "Iteration  128000\n",
            "Iteration  129000\n",
            "Iteration  130000\n",
            "Iteration  131000\n",
            "Iteration  132000\n",
            "Iteration  133000\n",
            "Iteration  134000\n",
            "Iteration  135000\n",
            "Iteration  136000\n",
            "Iteration  137000\n",
            "Iteration  138000\n",
            "Iteration  139000\n",
            "Iteration  140000\n",
            "Iteration  141000\n",
            "Iteration  142000\n",
            "Iteration  143000\n",
            "Iteration  144000\n",
            "Iteration  145000\n",
            "Iteration  146000\n",
            "Iteration  147000\n",
            "Iteration  148000\n",
            "Iteration  149000\n",
            "Iteration  150000\n",
            "Iteration  151000\n",
            "Iteration  152000\n",
            "Iteration  153000\n",
            "Iteration  154000\n",
            "Iteration  155000\n",
            "Iteration  156000\n",
            "Iteration  157000\n",
            "Iteration  158000\n",
            "Iteration  159000\n",
            "Iteration  160000\n",
            "Iteration  161000\n",
            "Iteration  162000\n",
            "Iteration  163000\n",
            "Iteration  164000\n",
            "Iteration  165000\n",
            "Iteration  166000\n",
            "Iteration  167000\n",
            "Iteration  168000\n",
            "Iteration  169000\n",
            "Iteration  170000\n",
            "Iteration  171000\n",
            "Iteration  172000\n",
            "Iteration  173000\n",
            "Iteration  174000\n",
            "Iteration  175000\n",
            "Iteration  176000\n",
            "Iteration  177000\n",
            "Iteration  178000\n",
            "Iteration  179000\n",
            "Iteration  180000\n",
            "Iteration  181000\n",
            "Iteration  182000\n",
            "Iteration  183000\n",
            "Iteration  184000\n",
            "Iteration  185000\n",
            "Iteration  186000\n",
            "Iteration  187000\n",
            "Iteration  188000\n",
            "Iteration  189000\n",
            "Iteration  190000\n",
            "Iteration  191000\n",
            "Iteration  192000\n",
            "Iteration  193000\n",
            "Iteration  194000\n",
            "Iteration  195000\n",
            "Iteration  196000\n",
            "Iteration  197000\n",
            "Iteration  198000\n",
            "Iteration  199000\n",
            "Iteration  200000\n",
            "Iteration  201000\n",
            "Iteration  202000\n",
            "Iteration  203000\n",
            "Iteration  204000\n",
            "Iteration  205000\n",
            "Iteration  206000\n",
            "Iteration  207000\n",
            "Iteration  208000\n",
            "Iteration  209000\n",
            "Iteration  210000\n",
            "Iteration  211000\n",
            "Iteration  212000\n",
            "Iteration  213000\n",
            "Iteration  214000\n",
            "Iteration  215000\n",
            "Iteration  216000\n",
            "Iteration  217000\n",
            "Iteration  218000\n",
            "Iteration  219000\n",
            "Iteration  220000\n",
            "Iteration  221000\n",
            "Iteration  222000\n",
            "Iteration  223000\n",
            "Iteration  224000\n",
            "Iteration  225000\n",
            "Iteration  226000\n",
            "Iteration  227000\n",
            "Iteration  228000\n",
            "Iteration  229000\n",
            "Iteration  230000\n",
            "Iteration  231000\n",
            "Iteration  232000\n",
            "Iteration  233000\n",
            "Iteration  234000\n",
            "Iteration  235000\n",
            "Iteration  236000\n",
            "Iteration  237000\n",
            "Iteration  238000\n",
            "Iteration  239000\n",
            "Iteration  240000\n",
            "Iteration  241000\n",
            "Iteration  242000\n",
            "Iteration  243000\n",
            "Iteration  244000\n",
            "Iteration  245000\n",
            "Iteration  246000\n",
            "Iteration  247000\n",
            "Iteration  248000\n",
            "Iteration  249000\n",
            "Iteration  250000\n",
            "Iteration  251000\n",
            "Iteration  252000\n",
            "Iteration  253000\n",
            "Iteration  254000\n",
            "Iteration  255000\n",
            "Iteration  256000\n",
            "Iteration  257000\n",
            "Iteration  258000\n",
            "Iteration  259000\n",
            "Iteration  260000\n",
            "Iteration  261000\n",
            "Iteration  262000\n",
            "Iteration  263000\n",
            "Iteration  264000\n",
            "Iteration  265000\n",
            "Iteration  266000\n",
            "Iteration  267000\n",
            "Iteration  268000\n",
            "Iteration  269000\n",
            "Iteration  270000\n",
            "Iteration  271000\n",
            "Iteration  272000\n",
            "Iteration  273000\n",
            "Iteration  274000\n",
            "Iteration  275000\n",
            "Iteration  276000\n",
            "Iteration  277000\n",
            "Iteration  278000\n",
            "Iteration  279000\n",
            "Iteration  280000\n",
            "Iteration  281000\n",
            "Iteration  282000\n",
            "Iteration  283000\n",
            "Iteration  284000\n",
            "Iteration  285000\n",
            "Iteration  286000\n",
            "Iteration  287000\n"
          ],
          "name": "stdout"
        }
      ]
    },
    {
      "cell_type": "code",
      "metadata": {
        "id": "CBDzpIDf7-p_",
        "colab_type": "code",
        "outputId": "c75fc45c-1750-4bc9-8f5b-bf80288e36d0",
        "colab": {
          "base_uri": "https://localhost:8080/",
          "height": 282
        }
      },
      "source": [
        "plt.plot(range(0,len(cost_list)),cost_list)\n",
        "plt.show()\n",
        "print(\"Training Cost=\",cost_list[-1])"
      ],
      "execution_count": 9,
      "outputs": [
        {
          "output_type": "display_data",
          "data": {
            "image/png": "[encoded data removed]",
            "text/plain": [
              "<Figure size 432x288 with 1 Axes>"
            ]
          },
          "metadata": {
            "tags": []
          }
        },
        {
          "output_type": "stream",
          "text": [
            "Training Cost= 0.039847069846131886\n"
          ],
          "name": "stdout"
        }
      ]
    },
    {
      "cell_type": "code",
      "metadata": {
        "id": "LYNx1r19-0RQ",
        "colab_type": "code",
        "colab": {}
      },
      "source": [
        "m=np.shape(test_x)[0]\n",
        "test_x=np.nan_to_num(test_x)\n",
        "test_y=np.nan_to_num(test_y)\n",
        "ones=np.ones((m,1))\n",
        "test_x=np.append(ones,test_x,axis=1)\n",
        "n=np.shape(test_x)[1]"
      ],
      "execution_count": 0,
      "outputs": []
    },
    {
      "cell_type": "code",
      "metadata": {
        "id": "CtTFvBlp_yEz",
        "colab_type": "code",
        "outputId": "d634af95-547c-45c3-d979-2348cb3dd270",
        "colab": {
          "base_uri": "https://localhost:8080/",
          "height": 284
        }
      },
      "source": [
        "calculated=hypothesis(theta,test_x)\n",
        "plt.scatter(test_y,calculated)\n",
        "plt.show()\n",
        "cost_val=cost(calculated,test_y)\n",
        "print(\"Test Cost=\",cost_val)"
      ],
      "execution_count": 11,
      "outputs": [
        {
          "output_type": "display_data",
          "data": {
            "image/png": "[encoded data removed]",
            "text/plain": [
              "<Figure size 432x288 with 1 Axes>"
            ]
          },
          "metadata": {
            "tags": []
          }
        },
        {
          "output_type": "stream",
          "text": [
            "Test Cost= 0.051530599678154626\n"
          ],
          "name": "stdout"
        }
      ]
    },
    {
      "cell_type": "code",
      "metadata": {
        "id": "pokQCVR5RvCL",
        "colab_type": "code",
        "colab": {
          "base_uri": "https://localhost:8080/",
          "height": 34
        },
        "outputId": "3df38dc3-b703-4283-a606-56ea91f3db2e"
      },
      "source": [
        "reg = LinearRegression()\n",
        "reg.fit(train_x, train_y)\n",
        "predict_y = reg.predict(test_x)\n",
        "\n",
        "print(\"Testing Cost\",cost(predict_y,test_y))"
      ],
      "execution_count": 12,
      "outputs": [
        {
          "output_type": "stream",
          "text": [
            "Testing Cost 0.05233820300172104\n"
          ],
          "name": "stdout"
        }
      ]
    }
  ]
}