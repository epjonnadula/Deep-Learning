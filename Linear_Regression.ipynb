{
  "nbformat": 4,
  "nbformat_minor": 0,
  "metadata": {
    "colab": {
      "name": "Linear Regression",
      "provenance": [],
      "include_colab_link": true
    },
    "kernelspec": {
      "name": "python3",
      "display_name": "Python 3"
    }
  },
  "cells": [
    {
      "cell_type": "markdown",
      "metadata": {
        "id": "view-in-github",
        "colab_type": "text"
      },
      "source": [
        "<a href=\"https://colab.research.google.com/github/epjonnadula/Deep-Learning/blob/master/Linear_Regression.ipynb\" target=\"_parent\"><img src=\"https://colab.research.google.com/assets/colab-badge.svg\" alt=\"Open In Colab\"/></a>"
      ]
    },
    {
      "cell_type": "code",
      "metadata": {
        "id": "4cXEoGwchSdh",
        "colab_type": "code",
        "colab": {}
      },
      "source": [
        "import numpy as np\n",
        "import pandas as pd\n",
        "from sklearn import preprocessing\n",
        "import matplotlib.pyplot as plt\n",
        "from sklearn import datasets\n",
        "from sklearn.model_selection import train_test_split\n",
        "from sklearn.linear_model import LinearRegression\n",
        "from sklearn.metrics import mean_squared_error\n",
        "import sys"
      ],
      "execution_count": 0,
      "outputs": []
    },
    {
      "cell_type": "code",
      "metadata": {
        "id": "ODI7yJuMDjwh",
        "colab_type": "code",
        "colab": {}
      },
      "source": [
        "boston = datasets.load_boston()\n",
        "bos = pd.DataFrame(boston.data, columns = boston.feature_names)\n",
        "x=bos.RM\n",
        "y=boston.target\n",
        "x=np.array(x).reshape(-1,1)\n",
        "y=np.array(y).reshape(-1,1)\n",
        "x=x/np.mean(x)\n",
        "y=y/np.mean(y)\n",
        "train_x, test_x, train_y, test_y = train_test_split(x, y, test_size = 0.3,shuffle=True)\n",
        "m=np.shape(train_x)[0]\n",
        "train_x=np.nan_to_num(train_x)\n",
        "train_y=np.nan_to_num(train_y)\n",
        "ones=np.ones((m,1))\n",
        "train_x=np.append(ones,train_x,axis=1)\n",
        "n=np.shape(train_x)[1]"
      ],
      "execution_count": 0,
      "outputs": []
    },
    {
      "cell_type": "code",
      "metadata": {
        "id": "Ry3APObKqcqn",
        "colab_type": "code",
        "colab": {}
      },
      "source": [
        "def hypothesis(theta,x):\n",
        "    return np.matmul(x,theta)"
      ],
      "execution_count": 0,
      "outputs": []
    },
    {
      "cell_type": "code",
      "metadata": {
        "id": "OJ0rdc0JzltG",
        "colab_type": "code",
        "colab": {}
      },
      "source": [
        "def cost(calculated,actual):\n",
        "    diff=np.subtract(calculated,actual)\n",
        "    val=np.matmul(np.transpose(diff),diff)[0][0]\n",
        "    val=val/(2*m)\n",
        "    return val"
      ],
      "execution_count": 0,
      "outputs": []
    },
    {
      "cell_type": "code",
      "metadata": {
        "id": "ZSH5PZJ26AMh",
        "colab_type": "code",
        "colab": {}
      },
      "source": [
        "def gradient_descent(calculated,actual,x,alpha,theta):\n",
        "    diff=np.subtract(calculated,actual)\n",
        "    grad=np.matmul(np.transpose(diff),x)\n",
        "    grads=alpha*(np.transpose(grad)/np.shape(x)[0])\n",
        "    theta=np.subtract(theta,grads)\n",
        "    return theta"
      ],
      "execution_count": 0,
      "outputs": []
    },
    {
      "cell_type": "code",
      "metadata": {
        "id": "pKhzg6USVaCK",
        "colab_type": "code",
        "outputId": "46d67d23-fc7f-4218-ed66-c11ae5b5763d",
        "colab": {
          "base_uri": "https://localhost:8080/",
          "height": 510
        }
      },
      "source": [
        "prev_cost=sys.maxsize\n",
        "cost_list=[]\n",
        "epsilon=0.00000001\n",
        "theta=np.zeros((n,1))\n",
        "while True:\n",
        "    calculated=hypothesis(theta,train_x)\n",
        "    cost_val=cost(calculated,train_y)\n",
        "    theta=gradient_descent(calculated,train_y,train_x,0.001,theta)\n",
        "    cost_list.append(cost_val)\n",
        "    if np.abs(cost_val-prev_cost)<=epsilon:\n",
        "        break\n",
        "    else:\n",
        "        prev_cost=cost_val\n",
        "    if len(cost_list)%10000==0:\n",
        "        print(\"Iteration \",len(cost_list), \"---> Cost \",cost_list[-1])"
      ],
      "execution_count": 6,
      "outputs": [
        {
          "output_type": "stream",
          "text": [
            "Iteration  10000 ---> Cost  0.06589625285477597\n",
            "Iteration  20000 ---> Cost  0.06325447344548614\n",
            "Iteration  30000 ---> Cost  0.06090740849374363\n",
            "Iteration  40000 ---> Cost  0.05882217992835827\n",
            "Iteration  50000 ---> Cost  0.05696957752522887\n",
            "Iteration  60000 ---> Cost  0.055323649725728036\n",
            "Iteration  70000 ---> Cost  0.05386134010300845\n",
            "Iteration  80000 ---> Cost  0.05256216438378989\n",
            "Iteration  90000 ---> Cost  0.0514079235012961\n",
            "Iteration  100000 ---> Cost  0.05038244865973936\n",
            "Iteration  110000 ---> Cost  0.04947137483917436\n",
            "Iteration  120000 ---> Cost  0.04866193956794071\n",
            "Iteration  130000 ---> Cost  0.04794280414386398\n",
            "Iteration  140000 ---> Cost  0.04730389479985457\n",
            "Iteration  150000 ---> Cost  0.046736261588924057\n",
            "Iteration  160000 ---> Cost  0.0462319530118585\n",
            "Iteration  170000 ---> Cost  0.04578390463131189\n",
            "Iteration  180000 ---> Cost  0.04538584011200801\n",
            "Iteration  190000 ---> Cost  0.04503218330080533\n",
            "Iteration  200000 ---> Cost  0.04471798011502834\n",
            "Iteration  210000 ---> Cost  0.044438829144864134\n",
            "Iteration  220000 ---> Cost  0.044190819997691144\n",
            "Iteration  230000 ---> Cost  0.04397047852065701\n",
            "Iteration  240000 ---> Cost  0.043774718134175335\n",
            "Iteration  250000 ---> Cost  0.04360079659461186\n",
            "Iteration  260000 ---> Cost  0.04344627758048556\n",
            "Iteration  270000 ---> Cost  0.043308996564077336\n",
            "Iteration  280000 ---> Cost  0.04318703049037025\n",
            "Iteration  290000 ---> Cost  0.043078670838579164\n"
          ],
          "name": "stdout"
        }
      ]
    },
    {
      "cell_type": "code",
      "metadata": {
        "id": "CBDzpIDf7-p_",
        "colab_type": "code",
        "outputId": "00eadb4b-3e50-4f0a-c362-ad0a7cc64c9d",
        "colab": {
          "base_uri": "https://localhost:8080/",
          "height": 284
        }
      },
      "source": [
        "plt.plot(range(0,len(cost_list)),cost_list)\n",
        "plt.show()\n",
        "print(\"Training Cost=\",cost_list[-1])"
      ],
      "execution_count": 7,
      "outputs": [
        {
          "output_type": "display_data",
          "data": {
            "image/png": "[encoded data removed]",
            "text/plain": [
              "<Figure size 432x288 with 1 Axes>"
            ]
          },
          "metadata": {
            "tags": []
          }
        },
        {
          "output_type": "stream",
          "text": [
            "Training Cost= 0.043061100941803036\n"
          ],
          "name": "stdout"
        }
      ]
    },
    {
      "cell_type": "code",
      "metadata": {
        "id": "LYNx1r19-0RQ",
        "colab_type": "code",
        "colab": {}
      },
      "source": [
        "m=np.shape(test_x)[0]\n",
        "test_x=np.nan_to_num(test_x)\n",
        "test_y=np.nan_to_num(test_y)\n",
        "ones=np.ones((m,1))\n",
        "test_x=np.append(ones,test_x,axis=1)\n",
        "n=np.shape(test_x)[1]"
      ],
      "execution_count": 0,
      "outputs": []
    },
    {
      "cell_type": "code",
      "metadata": {
        "id": "CtTFvBlp_yEz",
        "colab_type": "code",
        "outputId": "dd864f57-12e1-47e9-9a29-4d64ce00bcc6",
        "colab": {
          "base_uri": "https://localhost:8080/",
          "height": 282
        }
      },
      "source": [
        "calculated=hypothesis(theta,test_x)\n",
        "plt.scatter(test_y,calculated)\n",
        "plt.show()\n",
        "cost_val=cost(calculated,test_y)\n",
        "print(\"Test Cost=\",cost_val)"
      ],
      "execution_count": 9,
      "outputs": [
        {
          "output_type": "display_data",
          "data": {
            "image/png": "[encoded data removed]",
            "text/plain": [
              "<Figure size 432x288 with 1 Axes>"
            ]
          },
          "metadata": {
            "tags": []
          }
        },
        {
          "output_type": "stream",
          "text": [
            "Test Cost= 0.04448956295046833\n"
          ],
          "name": "stdout"
        }
      ]
    },
    {
      "cell_type": "code",
      "metadata": {
        "id": "pokQCVR5RvCL",
        "colab_type": "code",
        "outputId": "6e636adc-af82-4f7b-b177-edd3d9eb59a5",
        "colab": {
          "base_uri": "https://localhost:8080/",
          "height": 34
        }
      },
      "source": [
        "reg = LinearRegression()\n",
        "reg.fit(train_x, train_y)\n",
        "predict_y = reg.predict(test_x)\n",
        "\n",
        "print(\"Testing Cost\",cost(predict_y,test_y))"
      ],
      "execution_count": 10,
      "outputs": [
        {
          "output_type": "stream",
          "text": [
            "Testing Cost 0.04486138407033147\n"
          ],
          "name": "stdout"
        }
      ]
    }
  ]
}