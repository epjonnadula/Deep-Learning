{
  "nbformat": 4,
  "nbformat_minor": 0,
  "metadata": {
    "colab": {
      "name": "Linear Regression",
      "provenance": [],
      "include_colab_link": true
    },
    "kernelspec": {
      "name": "python3",
      "display_name": "Python 3"
    }
  },
  "cells": [
    {
      "cell_type": "markdown",
      "metadata": {
        "id": "view-in-github",
        "colab_type": "text"
      },
      "source": [
        "<a href=\"https://colab.research.google.com/github/epjonnadula/Deep-Learning/blob/master/Linear_Regression.ipynb\" target=\"_parent\"><img src=\"https://colab.research.google.com/assets/colab-badge.svg\" alt=\"Open In Colab\"/></a>"
      ]
    },
    {
      "cell_type": "code",
      "metadata": {
        "id": "4cXEoGwchSdh",
        "colab_type": "code",
        "colab": {}
      },
      "source": [
        "import numpy as np\n",
        "import pandas as pd\n",
        "from sklearn import preprocessing\n",
        "import matplotlib.pyplot as plt\n",
        "from sklearn import datasets\n",
        "from sklearn.model_selection import train_test_split\n",
        "from sklearn.linear_model import LinearRegression\n",
        "from sklearn.metrics import mean_squared_error\n",
        "import sys"
      ],
      "execution_count": 0,
      "outputs": []
    },
    {
      "cell_type": "code",
      "metadata": {
        "id": "ODI7yJuMDjwh",
        "colab_type": "code",
        "colab": {}
      },
      "source": [
        "boston = datasets.load_boston()\n",
        "bos = pd.DataFrame(boston.data, columns = boston.feature_names)\n",
        "x=bos.RM\n",
        "y=boston.target\n",
        "x=np.array(x).reshape(-1,1)\n",
        "y=np.array(y).reshape(-1,1)\n",
        "x=x/np.mean(x)\n",
        "y=y/np.mean(y)\n",
        "train_x, test_x, train_y, test_y = train_test_split(x, y, test_size = 0.3,shuffle=True)\n",
        "m=np.shape(train_x)[0]\n",
        "train_x=np.nan_to_num(train_x)\n",
        "train_y=np.nan_to_num(train_y)\n",
        "ones=np.ones((m,1))\n",
        "train_x=np.append(ones,train_x,axis=1)\n",
        "n=np.shape(train_x)[1]"
      ],
      "execution_count": 0,
      "outputs": []
    },
    {
      "cell_type": "code",
      "metadata": {
        "id": "txFUSqjPhWe6",
        "colab_type": "code",
        "colab": {}
      },
      "source": [
        "#dataset_train=pd.read_csv('https://raw.githubusercontent.com/eshwarprithvi/Deep-Learning/master/Linear_Regression/train.csv')\n",
        "#dataset_test=pd.read_csv('https://raw.githubusercontent.com/eshwarprithvi/Deep-Learning/master/Linear_Regression/test.csv')"
      ],
      "execution_count": 0,
      "outputs": []
    },
    {
      "cell_type": "code",
      "metadata": {
        "id": "Ry3APObKqcqn",
        "colab_type": "code",
        "colab": {}
      },
      "source": [
        "def hypothesis(theta,x):\n",
        "    return np.matmul(x,theta)"
      ],
      "execution_count": 0,
      "outputs": []
    },
    {
      "cell_type": "code",
      "metadata": {
        "id": "OJ0rdc0JzltG",
        "colab_type": "code",
        "colab": {}
      },
      "source": [
        "def cost(calculated,actual):\n",
        "    diff=np.subtract(calculated,actual)\n",
        "    val=np.matmul(np.transpose(diff),diff)[0][0]\n",
        "    val=val/(2*m)\n",
        "    return val"
      ],
      "execution_count": 0,
      "outputs": []
    },
    {
      "cell_type": "code",
      "metadata": {
        "id": "ZSH5PZJ26AMh",
        "colab_type": "code",
        "colab": {}
      },
      "source": [
        "def gradient_descent(calculated,actual,x,alpha,theta):\n",
        "    diff=np.subtract(calculated,actual)\n",
        "    grad=np.matmul(np.transpose(diff),x)\n",
        "    grads=alpha*(np.transpose(grad)/np.shape(x)[0])\n",
        "    theta=np.subtract(theta,grads)\n",
        "    return theta"
      ],
      "execution_count": 0,
      "outputs": []
    },
    {
      "cell_type": "code",
      "metadata": {
        "id": "PxPfE-mK0hGL",
        "colab_type": "code",
        "colab": {
          "base_uri": "https://localhost:8080/",
          "height": 54
        },
        "outputId": "0a8aa4e2-f582-49f2-dbbe-ff0e01612d22"
      },
      "source": [
        "'''\n",
        "itrs=200000\n",
        "cost_list=[]\n",
        "theta=np.zeros((n,1))\n",
        "for i in range(itrs):\n",
        "    calculated=hypothesis(theta,train_x)\n",
        "    cost_val=cost(calculated,train_y)\n",
        "    theta=gradient_descent(calculated,train_y,train_x,0.001,theta)\n",
        "    cost_list.append(cost_val)\n",
        "'''"
      ],
      "execution_count": 7,
      "outputs": [
        {
          "output_type": "execute_result",
          "data": {
            "text/plain": [
              "'\\nitrs=200000\\ncost_list=[]\\ntheta=np.zeros((n,1))\\nfor i in range(itrs):\\n    calculated=hypothesis(theta,train_x)\\n    cost_val=cost(calculated,train_y)\\n    theta=gradient_descent(calculated,train_y,train_x,0.001,theta)\\n    cost_list.append(cost_val)\\n'"
            ]
          },
          "metadata": {
            "tags": []
          },
          "execution_count": 7
        }
      ]
    },
    {
      "cell_type": "code",
      "metadata": {
        "id": "pKhzg6USVaCK",
        "colab_type": "code",
        "colab": {
          "base_uri": "https://localhost:8080/",
          "height": 510
        },
        "outputId": "3965a530-2e49-464e-bb4d-86af975fb355"
      },
      "source": [
        "prev_cost=sys.maxsize\n",
        "cost_list=[]\n",
        "epsilon=0.00000001\n",
        "theta=np.zeros((n,1))\n",
        "while True:\n",
        "    calculated=hypothesis(theta,train_x)\n",
        "    cost_val=cost(calculated,train_y)\n",
        "    theta=gradient_descent(calculated,train_y,train_x,0.001,theta)\n",
        "    cost_list.append(cost_val)\n",
        "    if np.abs(cost_val-prev_cost)<=epsilon:\n",
        "        break\n",
        "    else:\n",
        "        prev_cost=cost_val\n",
        "    if len(cost_list)%10000==0:\n",
        "        print(\"Iteration \",len(cost_list))"
      ],
      "execution_count": 8,
      "outputs": [
        {
          "output_type": "stream",
          "text": [
            "Iteration  10000\n",
            "Iteration  20000\n",
            "Iteration  30000\n",
            "Iteration  40000\n",
            "Iteration  50000\n",
            "Iteration  60000\n",
            "Iteration  70000\n",
            "Iteration  80000\n",
            "Iteration  90000\n",
            "Iteration  100000\n",
            "Iteration  110000\n",
            "Iteration  120000\n",
            "Iteration  130000\n",
            "Iteration  140000\n",
            "Iteration  150000\n",
            "Iteration  160000\n",
            "Iteration  170000\n",
            "Iteration  180000\n",
            "Iteration  190000\n",
            "Iteration  200000\n",
            "Iteration  210000\n",
            "Iteration  220000\n",
            "Iteration  230000\n",
            "Iteration  240000\n",
            "Iteration  250000\n",
            "Iteration  260000\n",
            "Iteration  270000\n",
            "Iteration  280000\n",
            "Iteration  290000\n"
          ],
          "name": "stdout"
        }
      ]
    },
    {
      "cell_type": "code",
      "metadata": {
        "id": "CBDzpIDf7-p_",
        "colab_type": "code",
        "outputId": "20b76fd7-b1b1-4d02-c584-8b5ac268686b",
        "colab": {
          "base_uri": "https://localhost:8080/",
          "height": 282
        }
      },
      "source": [
        "plt.plot(range(0,len(cost_list)),cost_list)\n",
        "plt.show()\n",
        "print(\"Training Cost=\",cost_list[-1])"
      ],
      "execution_count": 9,
      "outputs": [
        {
          "output_type": "display_data",
          "data": {
            "image/png": "[encoded data removed]",
            "text/plain": [
              "<Figure size 432x288 with 1 Axes>"
            ]
          },
          "metadata": {
            "tags": []
          }
        },
        {
          "output_type": "stream",
          "text": [
            "Training Cost= 0.04146187966442556\n"
          ],
          "name": "stdout"
        }
      ]
    },
    {
      "cell_type": "code",
      "metadata": {
        "id": "LYNx1r19-0RQ",
        "colab_type": "code",
        "colab": {}
      },
      "source": [
        "m=np.shape(test_x)[0]\n",
        "test_x=np.nan_to_num(test_x)\n",
        "test_y=np.nan_to_num(test_y)\n",
        "ones=np.ones((m,1))\n",
        "test_x=np.append(ones,test_x,axis=1)\n",
        "n=np.shape(test_x)[1]"
      ],
      "execution_count": 0,
      "outputs": []
    },
    {
      "cell_type": "code",
      "metadata": {
        "id": "CtTFvBlp_yEz",
        "colab_type": "code",
        "outputId": "747953f4-386f-4ccc-9e5e-23275df54f4a",
        "colab": {
          "base_uri": "https://localhost:8080/",
          "height": 282
        }
      },
      "source": [
        "calculated=hypothesis(theta,test_x)\n",
        "plt.scatter(test_y,calculated)\n",
        "plt.show()\n",
        "cost_val=cost(calculated,test_y)\n",
        "print(\"Test Cost=\",cost_val)"
      ],
      "execution_count": 11,
      "outputs": [
        {
          "output_type": "display_data",
          "data": {
            "image/png": "[encoded data removed]",
            "text/plain": [
              "<Figure size 432x288 with 1 Axes>"
            ]
          },
          "metadata": {
            "tags": []
          }
        },
        {
          "output_type": "stream",
          "text": [
            "Test Cost= 0.04854689413962229\n"
          ],
          "name": "stdout"
        }
      ]
    },
    {
      "cell_type": "code",
      "metadata": {
        "id": "pokQCVR5RvCL",
        "colab_type": "code",
        "colab": {
          "base_uri": "https://localhost:8080/",
          "height": 34
        },
        "outputId": "71c25683-f8c3-4b18-fa1e-24d42142d444"
      },
      "source": [
        "reg = LinearRegression()\n",
        "reg.fit(train_x, train_y)\n",
        "predict_y = reg.predict(test_x)\n",
        "\n",
        "print(\"Testing Cost\",cost(predict_y,test_y))"
      ],
      "execution_count": 12,
      "outputs": [
        {
          "output_type": "stream",
          "text": [
            "Testing Cost 0.048599246311622775\n"
          ],
          "name": "stdout"
        }
      ]
    }
  ]
}