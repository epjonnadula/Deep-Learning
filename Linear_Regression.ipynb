{
  "nbformat": 4,
  "nbformat_minor": 0,
  "metadata": {
    "colab": {
      "name": "Linear Regression",
      "provenance": [],
      "include_colab_link": true
    },
    "kernelspec": {
      "name": "python3",
      "display_name": "Python 3"
    },
    "widgets": {
      "application/vnd.jupyter.widget-state+json": {
        "18ecf536d79e40e7ad9e37d83cbff883": {
          "model_module": "@jupyter-widgets/controls",
          "model_name": "FloatLogSliderModel",
          "state": {
            "_view_name": "FloatLogSliderView",
            "orientation": "horizontal",
            "_view_module": "@jupyter-widgets/controls",
            "_model_module_version": "1.5.0",
            "_view_count": null,
            "disabled": false,
            "readout_format": ".3g",
            "_model_module": "@jupyter-widgets/controls",
            "style": "IPY_MODEL_0a11524897ee4cdea9b1c7e5a0a5020c",
            "layout": "IPY_MODEL_a8df0ef4e06c479ba16350125b07f450",
            "min": -8,
            "continuous_update": true,
            "description_tooltip": null,
            "_dom_classes": [],
            "description": "Epsilon Value",
            "_model_name": "FloatLogSliderModel",
            "max": -1,
            "readout": true,
            "step": 1,
            "base": 10,
            "value": 1e-8,
            "_view_module_version": "1.5.0"
          }
        },
        "0a11524897ee4cdea9b1c7e5a0a5020c": {
          "model_module": "@jupyter-widgets/controls",
          "model_name": "SliderStyleModel",
          "state": {
            "_view_name": "StyleView",
            "handle_color": null,
            "_model_name": "SliderStyleModel",
            "description_width": "",
            "_view_module": "@jupyter-widgets/base",
            "_model_module_version": "1.5.0",
            "_view_count": null,
            "_view_module_version": "1.2.0",
            "_model_module": "@jupyter-widgets/controls"
          }
        },
        "a8df0ef4e06c479ba16350125b07f450": {
          "model_module": "@jupyter-widgets/base",
          "model_name": "LayoutModel",
          "state": {
            "_view_name": "LayoutView",
            "grid_template_rows": null,
            "right": null,
            "justify_content": null,
            "_view_module": "@jupyter-widgets/base",
            "overflow": null,
            "_model_module_version": "1.2.0",
            "_view_count": null,
            "flex_flow": null,
            "width": null,
            "min_width": null,
            "border": null,
            "align_items": null,
            "bottom": null,
            "_model_module": "@jupyter-widgets/base",
            "top": null,
            "grid_column": null,
            "overflow_y": null,
            "overflow_x": null,
            "grid_auto_flow": null,
            "grid_area": null,
            "grid_template_columns": null,
            "flex": null,
            "_model_name": "LayoutModel",
            "justify_items": null,
            "grid_row": null,
            "max_height": null,
            "align_content": null,
            "visibility": null,
            "align_self": null,
            "height": null,
            "min_height": null,
            "padding": null,
            "grid_auto_rows": null,
            "grid_gap": null,
            "max_width": null,
            "order": null,
            "_view_module_version": "1.2.0",
            "grid_template_areas": null,
            "object_position": null,
            "object_fit": null,
            "grid_auto_columns": null,
            "margin": null,
            "display": null,
            "left": null
          }
        },
        "707e8d0c414346f980b2b096e8545d54": {
          "model_module": "@jupyter-widgets/controls",
          "model_name": "FloatLogSliderModel",
          "state": {
            "_view_name": "FloatLogSliderView",
            "orientation": "horizontal",
            "_view_module": "@jupyter-widgets/controls",
            "_model_module_version": "1.5.0",
            "_view_count": null,
            "disabled": false,
            "readout_format": ".3g",
            "_model_module": "@jupyter-widgets/controls",
            "style": "IPY_MODEL_5fe6172910c7471fb404d3c089cb7a44",
            "layout": "IPY_MODEL_1325e54cba3644ecb61fc40cb1377404",
            "min": -4,
            "continuous_update": true,
            "description_tooltip": null,
            "_dom_classes": [],
            "description": "Alpha Value",
            "_model_name": "FloatLogSliderModel",
            "max": -1,
            "readout": true,
            "step": 1,
            "base": 10,
            "value": 0.0001,
            "_view_module_version": "1.5.0"
          }
        },
        "5fe6172910c7471fb404d3c089cb7a44": {
          "model_module": "@jupyter-widgets/controls",
          "model_name": "SliderStyleModel",
          "state": {
            "_view_name": "StyleView",
            "handle_color": null,
            "_model_name": "SliderStyleModel",
            "description_width": "",
            "_view_module": "@jupyter-widgets/base",
            "_model_module_version": "1.5.0",
            "_view_count": null,
            "_view_module_version": "1.2.0",
            "_model_module": "@jupyter-widgets/controls"
          }
        },
        "1325e54cba3644ecb61fc40cb1377404": {
          "model_module": "@jupyter-widgets/base",
          "model_name": "LayoutModel",
          "state": {
            "_view_name": "LayoutView",
            "grid_template_rows": null,
            "right": null,
            "justify_content": null,
            "_view_module": "@jupyter-widgets/base",
            "overflow": null,
            "_model_module_version": "1.2.0",
            "_view_count": null,
            "flex_flow": null,
            "width": null,
            "min_width": null,
            "border": null,
            "align_items": null,
            "bottom": null,
            "_model_module": "@jupyter-widgets/base",
            "top": null,
            "grid_column": null,
            "overflow_y": null,
            "overflow_x": null,
            "grid_auto_flow": null,
            "grid_area": null,
            "grid_template_columns": null,
            "flex": null,
            "_model_name": "LayoutModel",
            "justify_items": null,
            "grid_row": null,
            "max_height": null,
            "align_content": null,
            "visibility": null,
            "align_self": null,
            "height": null,
            "min_height": null,
            "padding": null,
            "grid_auto_rows": null,
            "grid_gap": null,
            "max_width": null,
            "order": null,
            "_view_module_version": "1.2.0",
            "grid_template_areas": null,
            "object_position": null,
            "object_fit": null,
            "grid_auto_columns": null,
            "margin": null,
            "display": null,
            "left": null
          }
        }
      }
    }
  },
  "cells": [
    {
      "cell_type": "markdown",
      "metadata": {
        "id": "view-in-github",
        "colab_type": "text"
      },
      "source": [
        "<a href=\"https://colab.research.google.com/github/epjonnadula/Deep-Learning/blob/master/Linear_Regression.ipynb\" target=\"_parent\"><img src=\"https://colab.research.google.com/assets/colab-badge.svg\" alt=\"Open In Colab\"/></a>"
      ]
    },
    {
      "cell_type": "code",
      "metadata": {
        "id": "4cXEoGwchSdh",
        "colab_type": "code",
        "colab": {}
      },
      "source": [
        "import numpy as np\n",
        "import pandas as pd\n",
        "from sklearn import preprocessing\n",
        "import matplotlib.pyplot as plt\n",
        "from sklearn import datasets\n",
        "from sklearn.model_selection import train_test_split\n",
        "from sklearn.linear_model import LinearRegression\n",
        "from sklearn.metrics import mean_squared_error\n",
        "import sys\n",
        "import seaborn as sns\n",
        "import ipywidgets as widgets"
      ],
      "execution_count": 0,
      "outputs": []
    },
    {
      "cell_type": "code",
      "metadata": {
        "id": "ODI7yJuMDjwh",
        "colab_type": "code",
        "colab": {}
      },
      "source": [
        "boston = datasets.load_boston()\n",
        "bos = pd.DataFrame(boston.data, columns = boston.feature_names)\n",
        "x=bos.RM\n",
        "y=boston.target\n",
        "x=np.array(x).reshape(-1,1)\n",
        "y=np.array(y).reshape(-1,1)\n",
        "x=x/np.mean(x)\n",
        "y=y/np.mean(y)\n",
        "train_x, test_x, train_y, test_y = train_test_split(x, y, test_size = 0.3,shuffle=True)\n",
        "m=np.shape(train_x)[0]\n",
        "train_x=np.nan_to_num(train_x)\n",
        "train_y=np.nan_to_num(train_y)\n",
        "ones=np.ones((m,1))\n",
        "train_x=np.append(ones,train_x,axis=1)\n",
        "n=np.shape(train_x)[1]"
      ],
      "execution_count": 0,
      "outputs": []
    },
    {
      "cell_type": "code",
      "metadata": {
        "id": "o4ZAazEkyA_V",
        "colab_type": "code",
        "outputId": "8b38f862-5d9f-433c-b185-f57f83ef24a9",
        "colab": {
          "base_uri": "https://localhost:8080/",
          "height": 964
        }
      },
      "source": [
        "print(boston.DESCR)\n"
      ],
      "execution_count": 3,
      "outputs": [
        {
          "output_type": "stream",
          "text": [
            ".. _boston_dataset:\n",
            "\n",
            "Boston house prices dataset\n",
            "---------------------------\n",
            "\n",
            "**Data Set Characteristics:**  \n",
            "\n",
            "    :Number of Instances: 506 \n",
            "\n",
            "    :Number of Attributes: 13 numeric/categorical predictive. Median Value (attribute 14) is usually the target.\n",
            "\n",
            "    :Attribute Information (in order):\n",
            "        - CRIM     per capita crime rate by town\n",
            "        - ZN       proportion of residential land zoned for lots over 25,000 sq.ft.\n",
            "        - INDUS    proportion of non-retail business acres per town\n",
            "        - CHAS     Charles River dummy variable (= 1 if tract bounds river; 0 otherwise)\n",
            "        - NOX      nitric oxides concentration (parts per 10 million)\n",
            "        - RM       average number of rooms per dwelling\n",
            "        - AGE      proportion of owner-occupied units built prior to 1940\n",
            "        - DIS      weighted distances to five Boston employment centres\n",
            "        - RAD      index of accessibility to radial highways\n",
            "        - TAX      full-value property-tax rate per $10,000\n",
            "        - PTRATIO  pupil-teacher ratio by town\n",
            "        - B        1000(Bk - 0.63)^2 where Bk is the proportion of blacks by town\n",
            "        - LSTAT    % lower status of the population\n",
            "        - MEDV     Median value of owner-occupied homes in $1000's\n",
            "\n",
            "    :Missing Attribute Values: None\n",
            "\n",
            "    :Creator: Harrison, D. and Rubinfeld, D.L.\n",
            "\n",
            "This is a copy of UCI ML housing dataset.\n",
            "https://archive.ics.uci.edu/ml/machine-learning-databases/housing/\n",
            "\n",
            "\n",
            "This dataset was taken from the StatLib library which is maintained at Carnegie Mellon University.\n",
            "\n",
            "The Boston house-price data of Harrison, D. and Rubinfeld, D.L. 'Hedonic\n",
            "prices and the demand for clean air', J. Environ. Economics & Management,\n",
            "vol.5, 81-102, 1978.   Used in Belsley, Kuh & Welsch, 'Regression diagnostics\n",
            "...', Wiley, 1980.   N.B. Various transformations are used in the table on\n",
            "pages 244-261 of the latter.\n",
            "\n",
            "The Boston house-price data has been used in many machine learning papers that address regression\n",
            "problems.   \n",
            "     \n",
            ".. topic:: References\n",
            "\n",
            "   - Belsley, Kuh & Welsch, 'Regression diagnostics: Identifying Influential Data and Sources of Collinearity', Wiley, 1980. 244-261.\n",
            "   - Quinlan,R. (1993). Combining Instance-Based and Model-Based Learning. In Proceedings on the Tenth International Conference of Machine Learning, 236-243, University of Massachusetts, Amherst. Morgan Kaufmann.\n",
            "\n"
          ],
          "name": "stdout"
        }
      ]
    },
    {
      "cell_type": "code",
      "metadata": {
        "id": "Ry3APObKqcqn",
        "colab_type": "code",
        "colab": {}
      },
      "source": [
        "def hypothesis(theta,x):\n",
        "    return np.matmul(x,theta)"
      ],
      "execution_count": 0,
      "outputs": []
    },
    {
      "cell_type": "code",
      "metadata": {
        "id": "OJ0rdc0JzltG",
        "colab_type": "code",
        "colab": {}
      },
      "source": [
        "def cost(calculated,actual):\n",
        "    diff=np.subtract(calculated,actual)\n",
        "    val=np.matmul(np.transpose(diff),diff)[0][0]\n",
        "    val=val/(2*m)\n",
        "    return val"
      ],
      "execution_count": 0,
      "outputs": []
    },
    {
      "cell_type": "code",
      "metadata": {
        "id": "ZSH5PZJ26AMh",
        "colab_type": "code",
        "colab": {}
      },
      "source": [
        "def gradient_descent(calculated,actual,x,alpha,theta):\n",
        "    diff=np.subtract(calculated,actual)\n",
        "    grad=np.matmul(np.transpose(diff),x)\n",
        "    grads=alpha*(np.transpose(grad)/np.shape(x)[0])\n",
        "    theta=np.subtract(theta,grads)\n",
        "    return theta"
      ],
      "execution_count": 0,
      "outputs": []
    },
    {
      "cell_type": "code",
      "metadata": {
        "id": "Cvqwlcy3gNIw",
        "colab_type": "code",
        "colab": {
          "base_uri": "https://localhost:8080/",
          "height": 49,
          "referenced_widgets": [
            "18ecf536d79e40e7ad9e37d83cbff883",
            "0a11524897ee4cdea9b1c7e5a0a5020c",
            "a8df0ef4e06c479ba16350125b07f450"
          ]
        },
        "cellView": "form",
        "outputId": "bf5db6f0-4c3f-408a-dd45-a4024e1ca935"
      },
      "source": [
        "#@title ## Epsilon\n",
        "#@markdown Run and play with the slider to select the Epsilon.\n",
        "epsilon_slider=widgets.FloatLogSlider(\n",
        "    value=-8,\n",
        "    base=10,\n",
        "    min=-8, \n",
        "    max=-1, \n",
        "    step=1,\n",
        "    description='Epsilon Value'\n",
        ")\n",
        "display(epsilon_slider)"
      ],
      "execution_count": 7,
      "outputs": [
        {
          "output_type": "display_data",
          "data": {
            "application/vnd.jupyter.widget-view+json": {
              "model_id": "18ecf536d79e40e7ad9e37d83cbff883",
              "version_minor": 0,
              "version_major": 2
            },
            "text/plain": [
              "FloatLogSlider(value=1e-08, description='Epsilon Value', max=-1.0, min=-8.0, step=1.0)"
            ]
          },
          "metadata": {
            "tags": []
          }
        }
      ]
    },
    {
      "cell_type": "code",
      "metadata": {
        "id": "lzpO0tHPgP69",
        "colab_type": "code",
        "colab": {
          "base_uri": "https://localhost:8080/",
          "height": 49,
          "referenced_widgets": [
            "707e8d0c414346f980b2b096e8545d54",
            "5fe6172910c7471fb404d3c089cb7a44",
            "1325e54cba3644ecb61fc40cb1377404"
          ]
        },
        "cellView": "form",
        "outputId": "0ca7efea-ee14-4079-a52e-2eeff0acfa8f"
      },
      "source": [
        "#@title ## Learning Rate\n",
        "#@markdown Run and play with the slider to select the learning rate.\n",
        "alpha_slider=widgets.FloatLogSlider(\n",
        "    value=-4,\n",
        "    base=10,\n",
        "    min=-4, \n",
        "    max=-1, \n",
        "    step=1,\n",
        "    description='Alpha Value'\n",
        ")\n",
        "display(alpha_slider)"
      ],
      "execution_count": 8,
      "outputs": [
        {
          "output_type": "display_data",
          "data": {
            "application/vnd.jupyter.widget-view+json": {
              "model_id": "707e8d0c414346f980b2b096e8545d54",
              "version_minor": 0,
              "version_major": 2
            },
            "text/plain": [
              "FloatLogSlider(value=0.0001, description='Alpha Value', max=-1.0, min=-4.0, step=1.0)"
            ]
          },
          "metadata": {
            "tags": []
          }
        }
      ]
    },
    {
      "cell_type": "code",
      "metadata": {
        "id": "gOVeS5DSZ103",
        "colab_type": "code",
        "colab": {
          "base_uri": "https://localhost:8080/",
          "height": 617
        },
        "outputId": "8177b749-0b88-4f16-ed06-5ea89fc2f961"
      },
      "source": [
        "prev_cost=sys.maxsize\n",
        "cost_list=[]\n",
        "epsilon=epsilon_slider.value\n",
        "theta=np.zeros((n,1))\n",
        "theta[-1]=1\n",
        "while True:\n",
        "    calculated=hypothesis(theta,train_x)\n",
        "    cost_val=cost(calculated,train_y)\n",
        "    theta=gradient_descent(calculated,train_y,train_x,alpha_slider.value,theta)\n",
        "    cost_list.append(cost_val)\n",
        "    if np.abs(cost_val-prev_cost)<=epsilon:\n",
        "        break\n",
        "    else:\n",
        "        prev_cost=cost_val\n",
        "    if len(cost_list)%10000==0:\n",
        "        print(\"Iteration \",len(cost_list), \"---> Cost \",cost_list[-1])"
      ],
      "execution_count": 9,
      "outputs": [
        {
          "output_type": "stream",
          "text": [
            "Iteration  10000 ---> Cost  0.05456553772168154\n",
            "Iteration  20000 ---> Cost  0.05441913412157016\n",
            "Iteration  30000 ---> Cost  0.054274506011958906\n",
            "Iteration  40000 ---> Cost  0.05413160531623752\n",
            "Iteration  50000 ---> Cost  0.053990410911773645\n",
            "Iteration  60000 ---> Cost  0.05385090241570069\n",
            "Iteration  70000 ---> Cost  0.053713059697541386\n",
            "Iteration  80000 ---> Cost  0.05357686286734941\n",
            "Iteration  90000 ---> Cost  0.0534422922726743\n",
            "Iteration  100000 ---> Cost  0.053309328495722105\n",
            "Iteration  110000 ---> Cost  0.05317795235055418\n",
            "Iteration  120000 ---> Cost  0.05304814488031821\n",
            "Iteration  130000 ---> Cost  0.05291988735451288\n",
            "Iteration  140000 ---> Cost  0.0527931612662856\n",
            "Iteration  150000 ---> Cost  0.05266794832976137\n",
            "Iteration  160000 ---> Cost  0.05254423047740513\n",
            "Iteration  170000 ---> Cost  0.052421989857413726\n",
            "Iteration  180000 ---> Cost  0.052301208831140755\n",
            "Iteration  190000 ---> Cost  0.05218186997055116\n",
            "Iteration  200000 ---> Cost  0.052063956055706136\n",
            "Iteration  210000 ---> Cost  0.05194745007227905\n",
            "Iteration  220000 ---> Cost  0.05183233520909966\n",
            "Iteration  230000 ---> Cost  0.05171859485572904\n",
            "Iteration  240000 ---> Cost  0.05160621260006206\n",
            "Iteration  250000 ---> Cost  0.05149517222595991\n",
            "Iteration  260000 ---> Cost  0.05138545771090976\n",
            "Iteration  270000 ---> Cost  0.051277053223712815\n",
            "Iteration  280000 ---> Cost  0.051169943122200245\n",
            "Iteration  290000 ---> Cost  0.051064111950975835\n",
            "Iteration  300000 ---> Cost  0.050959544439185864\n",
            "Iteration  310000 ---> Cost  0.050856225498315956\n",
            "Iteration  320000 ---> Cost  0.05075414022001332\n",
            "Iteration  330000 ---> Cost  0.0506532738739361\n"
          ],
          "name": "stdout"
        }
      ]
    },
    {
      "cell_type": "code",
      "metadata": {
        "id": "CBDzpIDf7-p_",
        "colab_type": "code",
        "outputId": "82c7ee3e-285a-45ca-ae13-6c434ee29eed",
        "colab": {
          "base_uri": "https://localhost:8080/",
          "height": 313
        }
      },
      "source": [
        "plt.style.use('dark_background')\n",
        "plt.plot(range(0,len(cost_list)),cost_list,color='blue')\n",
        "plt.xlabel('Iteration')\n",
        "plt.ylabel('Cost Value')\n",
        "plt.title('Cost Function Vs Iteration')\n",
        "plt.show()\n",
        "print(\"Training Cost=\",cost_list[-1])"
      ],
      "execution_count": 10,
      "outputs": [
        {
          "output_type": "display_data",
          "data": {
            "image/png": "[encoded data removed]",
            "text/plain": [
              "<Figure size 432x288 with 1 Axes>"
            ]
          },
          "metadata": {
            "tags": []
          }
        },
        {
          "output_type": "stream",
          "text": [
            "Training Cost= 0.05063147540633971\n"
          ],
          "name": "stdout"
        }
      ]
    },
    {
      "cell_type": "code",
      "metadata": {
        "id": "LYNx1r19-0RQ",
        "colab_type": "code",
        "colab": {}
      },
      "source": [
        "m=np.shape(test_x)[0]\n",
        "test_x=np.nan_to_num(test_x)\n",
        "test_y=np.nan_to_num(test_y)\n",
        "ones=np.ones((m,1))\n",
        "test_x=np.append(ones,test_x,axis=1)\n",
        "n=np.shape(test_x)[1]"
      ],
      "execution_count": 0,
      "outputs": []
    },
    {
      "cell_type": "code",
      "metadata": {
        "id": "CtTFvBlp_yEz",
        "colab_type": "code",
        "outputId": "76156335-68f7-44ee-9752-9924aeb7b74c",
        "colab": {
          "base_uri": "https://localhost:8080/",
          "height": 316
        }
      },
      "source": [
        "calculated=hypothesis(theta,test_x)\n",
        "plt.style.use('dark_background')\n",
        "plt.plot(test_x[:,-1],calculated,color='red')\n",
        "plt.scatter(test_x[:,-1],test_y,color='green')\n",
        "plt.xlabel('Average number of rooms per dwelling')\n",
        "plt.ylabel('Median value of owner-occupied homes in $1000\\'s')\n",
        "plt.legend(['Predicted', 'Actual'], loc='upper left')\n",
        "plt.title('Linear Regression Implementation')\n",
        "plt.show()\n",
        "cost_val=cost(calculated,test_y)\n",
        "print(\"Testing Cost=\",cost_val)"
      ],
      "execution_count": 12,
      "outputs": [
        {
          "output_type": "display_data",
          "data": {
            "image/png": "[encoded data removed]",
            "text/plain": [
              "<Figure size 432x288 with 1 Axes>"
            ]
          },
          "metadata": {
            "tags": []
          }
        },
        {
          "output_type": "stream",
          "text": [
            "Testing Cost= 0.05902495568814894\n"
          ],
          "name": "stdout"
        }
      ]
    },
    {
      "cell_type": "code",
      "metadata": {
        "id": "pokQCVR5RvCL",
        "colab_type": "code",
        "outputId": "24b7b270-adf8-4573-ed96-a860b7e9289a",
        "colab": {
          "base_uri": "https://localhost:8080/",
          "height": 316
        }
      },
      "source": [
        "reg = LinearRegression()\n",
        "reg.fit(train_x, train_y)\n",
        "predict_y = reg.predict(test_x)\n",
        "plt.style.use('dark_background')\n",
        "plt.plot(test_x[:,-1],predict_y,color='red')\n",
        "plt.scatter(test_x[:,-1],test_y,color='green')\n",
        "plt.xlabel('Average number of rooms per dwelling')\n",
        "plt.ylabel('Median value of owner-occupied homes in $1000\\'s')\n",
        "plt.legend(['Predicted', 'Actual'], loc='upper left')\n",
        "plt.title('Linear Regression Library')\n",
        "plt.show()\n",
        "print(\"Testing Cost\",cost(predict_y,test_y))"
      ],
      "execution_count": 13,
      "outputs": [
        {
          "output_type": "display_data",
          "data": {
            "image/png": "[encoded data removed]",
            "text/plain": [
              "<Figure size 432x288 with 1 Axes>"
            ]
          },
          "metadata": {
            "tags": []
          }
        },
        {
          "output_type": "stream",
          "text": [
            "Testing Cost 0.04463636925966101\n"
          ],
          "name": "stdout"
        }
      ]
    }
  ]
}