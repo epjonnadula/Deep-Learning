{
  "nbformat": 4,
  "nbformat_minor": 0,
  "metadata": {
    "colab": {
      "name": "Multivariate Linear Regression",
      "provenance": [],
      "include_colab_link": true
    },
    "kernelspec": {
      "name": "python3",
      "display_name": "Python 3"
    }
  },
  "cells": [
    {
      "cell_type": "markdown",
      "metadata": {
        "id": "view-in-github",
        "colab_type": "text"
      },
      "source": [
        "<a href=\"https://colab.research.google.com/github/epjonnadula/Deep-Learning/blob/master/Multivariate_Linear_Regression.ipynb\" target=\"_parent\"><img src=\"https://colab.research.google.com/assets/colab-badge.svg\" alt=\"Open In Colab\"/></a>"
      ]
    },
    {
      "cell_type": "code",
      "metadata": {
        "id": "mwsEXkyrhKwi",
        "colab_type": "code",
        "colab": {}
      },
      "source": [
        "import numpy as np\n",
        "import pandas as pd\n",
        "from sklearn import preprocessing\n",
        "import matplotlib.pyplot as plt\n",
        "from sklearn import datasets\n",
        "from sklearn.model_selection import train_test_split\n",
        "from sklearn.linear_model import LinearRegression\n",
        "from sklearn.metrics import mean_squared_error\n",
        "import sys"
      ],
      "execution_count": 0,
      "outputs": []
    },
    {
      "cell_type": "code",
      "metadata": {
        "id": "_aW8dmAdhM7Z",
        "colab_type": "code",
        "colab": {}
      },
      "source": [
        "boston = datasets.load_boston()\n",
        "x=pd.DataFrame(boston.data)\n",
        "y=pd.DataFrame(boston.target)\n",
        "x=x.to_numpy()\n",
        "y=y.to_numpy()\n",
        "x=x/np.mean(x)\n",
        "y=y/np.mean(y)\n",
        "train_x, test_x, train_y, test_y = train_test_split(x, y, test_size = 0.3,shuffle=True)\n",
        "m=np.shape(train_x)[0]\n",
        "train_x=np.nan_to_num(train_x)\n",
        "train_y=np.nan_to_num(train_y)\n",
        "ones=np.ones((m,1))\n",
        "train_x=np.append(ones,train_x,axis=1)\n",
        "n=np.shape(train_x)[1]"
      ],
      "execution_count": 0,
      "outputs": []
    },
    {
      "cell_type": "code",
      "metadata": {
        "id": "YBP10W-Xjmnw",
        "colab_type": "code",
        "colab": {}
      },
      "source": [
        "def hypothesis(theta,x):\n",
        "    return np.matmul(x,theta)"
      ],
      "execution_count": 0,
      "outputs": []
    },
    {
      "cell_type": "code",
      "metadata": {
        "id": "4QhkTaQjjn9w",
        "colab_type": "code",
        "colab": {}
      },
      "source": [
        "def cost(calculated,actual):\n",
        "    diff=np.subtract(calculated,actual)\n",
        "    val=np.matmul(np.transpose(diff),diff)[0][0]\n",
        "    val=val/(2*m)\n",
        "    return val"
      ],
      "execution_count": 0,
      "outputs": []
    },
    {
      "cell_type": "code",
      "metadata": {
        "id": "M_JbC24Kjpva",
        "colab_type": "code",
        "colab": {}
      },
      "source": [
        "def gradient_descent(calculated,actual,x,alpha,theta):\n",
        "    diff=np.subtract(calculated,actual)\n",
        "    grad=np.matmul(np.transpose(diff),x)\n",
        "    grads=alpha*(np.transpose(grad)/np.shape(x)[0])\n",
        "    theta=np.subtract(theta,grads)\n",
        "    return theta"
      ],
      "execution_count": 0,
      "outputs": []
    },
    {
      "cell_type": "code",
      "metadata": {
        "id": "goSXIDUtYPfh",
        "colab_type": "code",
        "outputId": "3c6581cf-0627-4e44-b002-cccbea2f6075",
        "colab": {
          "base_uri": "https://localhost:8080/",
          "height": 272
        }
      },
      "source": [
        "prev_cost=sys.maxsize\n",
        "cost_list=[]\n",
        "epsilon=0.00000001\n",
        "theta=np.zeros((n,1))\n",
        "while True:\n",
        "    calculated=hypothesis(theta,train_x)\n",
        "    cost_val=cost(calculated,train_y)\n",
        "    theta=gradient_descent(calculated,train_y,train_x,0.03,theta)\n",
        "    cost_list.append(cost_val)\n",
        "    if np.abs(cost_val-prev_cost)<=epsilon:\n",
        "        break\n",
        "    else:\n",
        "        prev_cost=cost_val\n",
        "    if len(cost_list)%10000==0:\n",
        "        print(\"Iteration \",len(cost_list), \"---> Cost \",cost_list[-1])"
      ],
      "execution_count": 6,
      "outputs": [
        {
          "output_type": "stream",
          "text": [
            "Iteration  10000 ---> Cost  0.03089844516699166\n",
            "Iteration  20000 ---> Cost  0.02829768621523589\n",
            "Iteration  30000 ---> Cost  0.027203183019572752\n",
            "Iteration  40000 ---> Cost  0.026453399755020392\n",
            "Iteration  50000 ---> Cost  0.02589288476831853\n",
            "Iteration  60000 ---> Cost  0.025459920258573326\n",
            "Iteration  70000 ---> Cost  0.025117265033658805\n",
            "Iteration  80000 ---> Cost  0.024839933862183\n",
            "Iteration  90000 ---> Cost  0.024610520343746285\n",
            "Iteration  100000 ---> Cost  0.02441668164453476\n",
            "Iteration  110000 ---> Cost  0.024249576250666406\n",
            "Iteration  120000 ---> Cost  0.024102824317681144\n",
            "Iteration  130000 ---> Cost  0.023971792163295043\n",
            "Iteration  140000 ---> Cost  0.02385309169657904\n",
            "Iteration  150000 ---> Cost  0.02374422727360581\n"
          ],
          "name": "stdout"
        }
      ]
    },
    {
      "cell_type": "code",
      "metadata": {
        "id": "IWrpZYZJjyGD",
        "colab_type": "code",
        "outputId": "f95c3910-d4c3-4b1b-e505-1673c41f2338",
        "colab": {
          "base_uri": "https://localhost:8080/",
          "height": 284
        }
      },
      "source": [
        "plt.plot(range(0,len(cost_list)),cost_list)\n",
        "plt.show()\n",
        "print(\"Training Cost=\",cost_list[-1])"
      ],
      "execution_count": 7,
      "outputs": [
        {
          "output_type": "display_data",
          "data": {
            "image/png": "[encoded data removed]",
            "text/plain": [
              "<Figure size 432x288 with 1 Axes>"
            ]
          },
          "metadata": {
            "tags": []
          }
        },
        {
          "output_type": "stream",
          "text": [
            "Training Cost= 0.023681257001992535\n"
          ],
          "name": "stdout"
        }
      ]
    },
    {
      "cell_type": "code",
      "metadata": {
        "id": "u8VUBt6mqqWD",
        "colab_type": "code",
        "colab": {}
      },
      "source": [
        "m=np.shape(test_x)[0]\n",
        "test_x=np.nan_to_num(test_x)\n",
        "test_y=np.nan_to_num(test_y)\n",
        "ones=np.ones((m,1))\n",
        "test_x=np.append(ones,test_x,axis=1)\n",
        "n=np.shape(test_x)[1]"
      ],
      "execution_count": 0,
      "outputs": []
    },
    {
      "cell_type": "code",
      "metadata": {
        "id": "rr0klh-cqsEg",
        "colab_type": "code",
        "outputId": "304b909e-78d6-4309-cc5a-9b99b2cd2438",
        "colab": {
          "base_uri": "https://localhost:8080/",
          "height": 282
        }
      },
      "source": [
        "calculated=hypothesis(theta,test_x)\n",
        "plt.scatter(test_y,calculated)\n",
        "plt.show()\n",
        "cost_val=cost(calculated,test_y)\n",
        "print(\"Test Cost=\",cost_val)"
      ],
      "execution_count": 9,
      "outputs": [
        {
          "output_type": "display_data",
          "data": {
            "image/png": "[encoded data removed]",
            "text/plain": [
              "<Figure size 432x288 with 1 Axes>"
            ]
          },
          "metadata": {
            "tags": []
          }
        },
        {
          "output_type": "stream",
          "text": [
            "Test Cost= 0.02965466293945165\n"
          ],
          "name": "stdout"
        }
      ]
    },
    {
      "cell_type": "code",
      "metadata": {
        "id": "WrRB_Bp6qxN8",
        "colab_type": "code",
        "outputId": "45260902-1d5a-4170-d423-649b5d150456",
        "colab": {
          "base_uri": "https://localhost:8080/",
          "height": 34
        }
      },
      "source": [
        "reg = LinearRegression()\n",
        "reg.fit(train_x, train_y)\n",
        "predict_y = reg.predict(test_x)\n",
        "\n",
        "print(\"Testing Cost\",cost(predict_y,test_y))"
      ],
      "execution_count": 10,
      "outputs": [
        {
          "output_type": "stream",
          "text": [
            "Testing Cost 0.027078343322729233\n"
          ],
          "name": "stdout"
        }
      ]
    }
  ]
}