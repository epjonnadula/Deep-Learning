{
  "nbformat": 4,
  "nbformat_minor": 0,
  "metadata": {
    "colab": {
      "name": "Multivariate Linear Regression.ipynb",
      "provenance": [],
      "include_colab_link": true
    },
    "kernelspec": {
      "name": "python3",
      "display_name": "Python 3"
    }
  },
  "cells": [
    {
      "cell_type": "markdown",
      "metadata": {
        "id": "view-in-github",
        "colab_type": "text"
      },
      "source": [
        "<a href=\"https://colab.research.google.com/github/eshwarprithvi/Deep-Learning/blob/master/Multivariate_Linear_Regression.ipynb\" target=\"_parent\"><img src=\"https://colab.research.google.com/assets/colab-badge.svg\" alt=\"Open In Colab\"/></a>"
      ]
    },
    {
      "cell_type": "code",
      "metadata": {
        "id": "YCUAZpsJQPla",
        "colab_type": "code",
        "outputId": "b5db9005-323c-4e0f-8a76-c52cbc9ef92e",
        "colab": {
          "base_uri": "https://localhost:8080/",
          "height": 63
        }
      },
      "source": [
        "import numpy as np\n",
        "import pandas as pd\n",
        "import tensorflow as tf\n",
        "from tensorflow import keras\n",
        "import random \n",
        "import matplotlib.pyplot as plt\n",
        "from sklearn import preprocessing\n"
      ],
      "execution_count": 0,
      "outputs": [
        {
          "output_type": "display_data",
          "data": {
            "text/html": [
              "<p style=\"color: red;\">\n",
              "The default version of TensorFlow in Colab will soon switch to TensorFlow 2.x.<br>\n",
              "We recommend you <a href=\"https://www.tensorflow.org/guide/migrate\" target=\"_blank\">upgrade</a> now \n",
              "or ensure your notebook will continue to use TensorFlow 1.x via the <code>%tensorflow_version 1.x</code> magic:\n",
              "<a href=\"https://colab.research.google.com/notebooks/tensorflow_version.ipynb\" target=\"_blank\">more info</a>.</p>\n"
            ],
            "text/plain": [
              "<IPython.core.display.HTML object>"
            ]
          },
          "metadata": {
            "tags": []
          }
        }
      ]
    },
    {
      "cell_type": "code",
      "metadata": {
        "id": "mysOF1hcRxPj",
        "colab_type": "code",
        "colab": {}
      },
      "source": [
        "(x_train, y_train), (x_test, y_test)=tf.compat.v2.keras.datasets.boston_housing.load_data(path='boston_housing.npz',test_split=0.2,seed=113)\n",
        "\n",
        "x_train = preprocessing.scale(x_train)\n",
        "y_train = preprocessing.scale(y_train)\n",
        "n=np.shape(x_train)[1]\n",
        "m=np.shape(x_train)[0]\n",
        "y_train=np.reshape(y_train,(m,1))\n",
        "y_test=np.reshape(y_test,(np.shape(y_test)[0],1))"
      ],
      "execution_count": 0,
      "outputs": []
    },
    {
      "cell_type": "code",
      "metadata": {
        "id": "5Df3dEr3UGJw",
        "colab_type": "code",
        "colab": {}
      },
      "source": [
        "theta=np.random.random((n,1))\n",
        "theta=np.zeros((n,1))"
      ],
      "execution_count": 0,
      "outputs": []
    },
    {
      "cell_type": "code",
      "metadata": {
        "id": "Z6LEzQV3ppcA",
        "colab_type": "code",
        "outputId": "47159fe4-561d-4f52-de84-e4aab6b5c38c",
        "colab": {
          "base_uri": "https://localhost:8080/",
          "height": 51
        }
      },
      "source": [
        "print(np.shape(theta))\n",
        "print(np.shape(x_train))"
      ],
      "execution_count": 0,
      "outputs": [
        {
          "output_type": "stream",
          "text": [
            "(13, 1)\n",
            "(404, 13)\n"
          ],
          "name": "stdout"
        }
      ]
    },
    {
      "cell_type": "code",
      "metadata": {
        "id": "lgi_3QkhvaJO",
        "colab_type": "code",
        "colab": {}
      },
      "source": [
        "cost_list=[]\n",
        "alpha=0.01\n",
        "its=500\n",
        "for i in range(its):\n",
        "    hypothesis=np.matmul(x_train,theta)\n",
        "    diff=np.subtract(hypothesis,y_train)\n",
        "    cost=np.matmul(np.transpose(diff),diff)\n",
        "    cost=cost[0][0]/(2*m)\n",
        "    grad=np.matmul(np.transpose(x_train),diff)\n",
        "    grad=grad/m\n",
        "    theta=np.subtract(theta,alpha*grad)\n",
        "    cost_list.append(cost)"
      ],
      "execution_count": 0,
      "outputs": []
    },
    {
      "cell_type": "code",
      "metadata": {
        "id": "juahjxrKwlWn",
        "colab_type": "code",
        "outputId": "c01883a8-ece0-4e13-e559-ffd288b84933",
        "colab": {
          "base_uri": "https://localhost:8080/",
          "height": 265
        }
      },
      "source": [
        "plt.plot(range(0,its),cost_list)\n",
        "plt.show()"
      ],
      "execution_count": 0,
      "outputs": [
        {
          "output_type": "display_data",
          "data": {
            "image/png": "[encoded data removed]",
            "text/plain": [
              "<Figure size 432x288 with 1 Axes>"
            ]
          },
          "metadata": {
            "tags": []
          }
        }
      ]
    },
    {
      "cell_type": "code",
      "metadata": {
        "colab_type": "code",
        "id": "TU4Kwc8_EXrZ",
        "outputId": "b328cfc7-03ac-4704-8573-699c669614a0",
        "colab": {
          "base_uri": "https://localhost:8080/",
          "height": 51
        }
      },
      "source": [
        "hypothesis=np.matmul(x_train,theta)\n",
        "diff=np.subtract(hypothesis,y_train)\n",
        "cost=np.matmul(np.transpose(diff),diff)\n",
        "cost=cost[0][0]/(2*m)\n",
        "\n",
        "print(\"Train Cost=\",cost)\n",
        "\n",
        "hypothesis=np.matmul(x_test,theta)\n",
        "diff=np.subtract(hypothesis,y_test)\n",
        "cost=np.matmul(np.transpose(diff),diff)\n",
        "cost=cost[0][0]/(2*m)\n",
        "\n",
        "print(\"Test Cost=\",cost)"
      ],
      "execution_count": 0,
      "outputs": [
        {
          "output_type": "stream",
          "text": [
            "Train Cost= 0.13559821220495763\n",
            "Test Cost= 26.358955196877325\n"
          ],
          "name": "stdout"
        }
      ]
    }
  ]
}